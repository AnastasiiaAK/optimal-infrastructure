{
 "cells": [
  {
   "cell_type": "code",
   "execution_count": 22,
   "metadata": {
    "collapsed": true
   },
   "outputs": [
    {
     "name": "stdout",
     "output_type": "stream",
     "text": [
      "[0, 1, 2, 3, 4, 5, 6, 7, 8]\n"
     ]
    }
   ],
   "source": [
    "numberOfTask = 9\n",
    "nodes = list(range(numberOfTask))\n",
    "print(nodes)"
   ]
  },
  {
   "cell_type": "code",
   "execution_count": 23,
   "outputs": [
    {
     "name": "stdout",
     "output_type": "stream",
     "text": [
      "[[0, 1], [1, 2], [2, 3], [3, 4], [4, 5], [5, 6], [6, 7], [7, 8]]\n"
     ]
    }
   ],
   "source": [
    "edges = []\n",
    "for node in range(len(nodes)-1):\n",
    "    edges.append(nodes[node:(node+2)])\n",
    "print(edges)"
   ],
   "metadata": {
    "collapsed": false,
    "pycharm": {
     "name": "#%%\n"
    }
   }
  },
  {
   "cell_type": "code",
   "execution_count": 24,
   "outputs": [
    {
     "data": {
      "text/plain": "[[0, 1], [1, 2], [2, 3], [3, 4], [4, 5], [5, 6], [6, 7], [7, 8]]"
     },
     "execution_count": 24,
     "metadata": {},
     "output_type": "execute_result"
    }
   ],
   "source": [
    "list(map(lambda nod: nodes[nod:(nod+2)], nodes))[:-1]"
   ],
   "metadata": {
    "collapsed": false,
    "pycharm": {
     "name": "#%%\n"
    }
   }
  },
  {
   "cell_type": "code",
   "execution_count": 25,
   "outputs": [
    {
     "data": {
      "text/plain": "   indexOfTask  nameOfTask  complexityOfTask  incomingMemory  outgoingMemory  \\\n0            0           0                 0               0               0   \n\n   possibilityOfParalleling  \n0                         0  ",
      "text/html": "<div>\n<style scoped>\n    .dataframe tbody tr th:only-of-type {\n        vertical-align: middle;\n    }\n\n    .dataframe tbody tr th {\n        vertical-align: top;\n    }\n\n    .dataframe thead th {\n        text-align: right;\n    }\n</style>\n<table border=\"1\" class=\"dataframe\">\n  <thead>\n    <tr style=\"text-align: right;\">\n      <th></th>\n      <th>indexOfTask</th>\n      <th>nameOfTask</th>\n      <th>complexityOfTask</th>\n      <th>incomingMemory</th>\n      <th>outgoingMemory</th>\n      <th>possibilityOfParalleling</th>\n    </tr>\n  </thead>\n  <tbody>\n    <tr>\n      <th>0</th>\n      <td>0</td>\n      <td>0</td>\n      <td>0</td>\n      <td>0</td>\n      <td>0</td>\n      <td>0</td>\n    </tr>\n  </tbody>\n</table>\n</div>"
     },
     "execution_count": 25,
     "metadata": {},
     "output_type": "execute_result"
    }
   ],
   "source": [
    "import pandas as pd\n",
    "dictOfDescriptionOfTask = {}\n",
    "dictOfDescriptionOfTask[0] = {}\n",
    "dictOfDescriptionOfTask[0][\"indexOfTask\"] = 0\n",
    "dictOfDescriptionOfTask[0][\"nameOfTask\"] = 0\n",
    "dictOfDescriptionOfTask[0][\"complexityOfTask\"] = 0  # what time it task run on the cpu\n",
    "dictOfDescriptionOfTask[0][\"incomingMemory\"] = 0  # task memory before coming to it\n",
    "dictOfDescriptionOfTask[0][\"outgoingMemory\"] = 0  # task memory after leaving it\n",
    "dictOfDescriptionOfTask[0][\"outgoingMemory\"] = 0  # task memory after leaving it\n",
    "dictOfDescriptionOfTask[0][\"possibilityOfParalleling\"] = 0  # task memory after leaving it\n",
    "dictOfDescriptionOfTask\n",
    "pd.DataFrame.from_dict(dictOfDescriptionOfTask, orient='index')"
   ],
   "metadata": {
    "collapsed": false,
    "pycharm": {
     "name": "#%%# set dictionary of task with its description\n"
    }
   }
  },
  {
   "cell_type": "code",
   "execution_count": 26,
   "outputs": [
    {
     "ename": "SyntaxError",
     "evalue": "invalid syntax (1014184523.py, line 2)",
     "output_type": "error",
     "traceback": [
      "\u001B[0;36m  File \u001B[0;32m\"/tmp/ipykernel_9323/1014184523.py\"\u001B[0;36m, line \u001B[0;32m2\u001B[0m\n\u001B[0;31m    x =\u001B[0m\n\u001B[0m       ^\u001B[0m\n\u001B[0;31mSyntaxError\u001B[0m\u001B[0;31m:\u001B[0m invalid syntax\n"
     ]
    }
   ],
   "source": [
    "def cpu_of_task_to_working_time(cpu_of_task, core_freq):\n",
    "    x =\n"
   ],
   "metadata": {
    "collapsed": false,
    "pycharm": {
     "name": "#%%\n"
    }
   }
  },
  {
   "cell_type": "code",
   "execution_count": null,
   "outputs": [],
   "source": [
    "import numpy as np\n",
    "import matplotlib.pyplot as plt\n",
    "\n",
    "cpuOfTask = 20\n",
    "x = np.linspace(0.1, cpuOfTask * 100, 400)\n",
    "y = np.linspace(0.1, 50, 400)\n",
    "x, y = np.meshgrid(x, y)\n",
    "\n",
    "def axes():\n",
    "    plt.axhline(0, alpha=.1)\n",
    "    plt.axvline(0, alpha=.1)\n",
    "    plt.xlabel(\"CPU of machine\")\n",
    "    plt.ylabel(\"Execution time\")\n",
    "    plt.title(\"Dependencies CPU of machine and execution time for Task with CPU = %s\" % cpuOfTask)\n",
    "\n",
    "a = 2\n",
    "b = 1\n",
    "axes()\n",
    "plt.contour(x, y, (y - cpuOfTask * 10 / (x)), [0], colors='k')\n",
    "plt.show()\n",
    "\n",
    "\n"
   ],
   "metadata": {
    "collapsed": false,
    "pycharm": {
     "name": "#%%\n"
    }
   }
  },
  {
   "cell_type": "code",
   "execution_count": 28,
   "outputs": [
    {
     "data": {
      "text/plain": "2"
     },
     "execution_count": 28,
     "metadata": {},
     "output_type": "execute_result"
    }
   ],
   "source": [
    "switches_id = [1,2,3,4]\n",
    "switchesFreq = [0.1, 1, 10]\n",
    "priceOfSwitches = [50, 1000, 100000]\n",
    "zip(\"price\", priceOfSwitches)\n",
    "dictSwitches = dict(zip(switches_id, switchesFreq))"
   ],
   "metadata": {
    "collapsed": false,
    "pycharm": {
     "name": "#%%\n"
    }
   }
  },
  {
   "cell_type": "code",
   "execution_count": 14,
   "outputs": [
    {
     "name": "stdout",
     "output_type": "stream",
     "text": [
      "{'price': 100000}\n",
      "{'frequency': 10}\n",
      "{1: {'price': 50, 'frequency': 0.1}, 2: {'price': 1000, 'frequency': 1}, 3: {'price': 100000, 'frequency': 10}}\n"
     ]
    }
   ],
   "source": [
    "switches_id = [1,2,3,4]\n",
    "switchesFreq = [0.1, 1, 10]\n",
    "priceOfSwitches = [50, 1000, 100000]\n",
    "print(dict(zip([\"price\"]*len(priceOfSwitches), priceOfSwitches)))\n",
    "print(dict(zip([\"frequency\"] * len(switchesFreq), switchesFreq)))\n",
    "\n",
    "from collections import defaultdict\n",
    "\n",
    "dictSwitches = defaultdict(dict)\n",
    "for x, y, z in zip(list(range(1, len(switchesFreq) + 1, 1)), switchesFreq, priceOfSwitches):\n",
    "    dictSwitches[x][\"price\"] = z\n",
    "    dictSwitches[x][\"frequency\"] = y\n",
    "print(dict(dictSwitches))"
   ],
   "metadata": {
    "collapsed": false,
    "pycharm": {
     "name": "#%%\n"
    }
   }
  },
  {
   "cell_type": "code",
   "execution_count": 8,
   "outputs": [
    {
     "data": {
      "text/plain": "[(1, 0.1, 50), (2, 1, 1000), (3, 10, 100000)]"
     },
     "execution_count": 8,
     "metadata": {},
     "output_type": "execute_result"
    }
   ],
   "source": [
    "list(zip(switches_id, switchesFreq, priceOfSwitches))"
   ],
   "metadata": {
    "collapsed": false,
    "pycharm": {
     "name": "#%%\n"
    }
   }
  },
  {
   "cell_type": "code",
   "execution_count": 15,
   "outputs": [
    {
     "data": {
      "text/plain": "<Figure size 432x288 with 1 Axes>",
      "image/png": "[encoded data removed]"
     },
     "metadata": {
      "needs_background": "light"
     },
     "output_type": "display_data"
    },
    {
     "data": {
      "text/plain": "<Figure size 432x288 with 1 Axes>",
      "image/png": "[encoded data removed]"
     },
     "metadata": {
      "needs_background": "light"
     },
     "output_type": "display_data"
    },
    {
     "data": {
      "text/plain": "<Figure size 432x288 with 1 Axes>",
      "image/png": "[encoded data removed]"
     },
     "metadata": {
      "needs_background": "light"
     },
     "output_type": "display_data"
    },
    {
     "data": {
      "text/plain": "<Figure size 432x288 with 1 Axes>",
      "image/png": "[encoded data removed]"
     },
     "metadata": {
      "needs_background": "light"
     },
     "output_type": "display_data"
    },
    {
     "name": "stdout",
     "output_type": "stream",
     "text": [
      "{1: {2: 0.11, 4: 0.24, 8: 0.56, 16: 1.44}, 2: {2: 0.123, 4: 0.272, 8: 0.642, 16: 1.682}, 3: {2: 0.142, 4: 0.31, 8: 0.73, 16: 1.894}, 4: {2: 0.189, 4: 0.406, 8: 0.924, 16: 2.296}}\n",
      "{1: {'price': 50, 'frequency': 0.1, 'number_attached': 4}, 2: {'price': 1000, 'frequency': 1, 'number_attached': 8}, 3: {'price': 100000, 'frequency': 10, 'number_attached': 16}}\n",
      "This graph is DAG? True\n"
     ]
    },
    {
     "data": {
      "text/plain": "<Figure size 432x288 with 1 Axes>",
      "image/png": "[encoded data removed]"
     },
     "metadata": {},
     "output_type": "display_data"
    }
   ],
   "source": [
    "from classesOfMacines import *\n",
    "from setTask import *\n",
    "from parameters import *\n",
    "import pandas as pd\n",
    "\n",
    "# working time of task on CPU\n",
    "\"\"\"\n",
    "CPU\n",
    "Task 1 0.11952686309814453\n",
    "Task 2 0.38246989250183105\n",
    "Task 3 0.0005393028259277344\n",
    "Task 4 1.6666145324707031\n",
    "Task 5 1451.2022745609283\n",
    "Task 6 0.67854\n",
    "Task 7 0.4834657\n",
    "\"\"\"\n",
    "\n",
    "# select machines for task\n",
    "\n",
    "# наилучшее время выполнения будет при наибольшем кол-ве машин с лучшей конфигурацией\n",
    "# наихудшее время выполнения будет с одной машиной при самой дешевой конфигурации\n",
    "\n",
    "# рассматриваем распарралеливание только по CPU в рамках одной машины\n",
    "\n",
    "# example\n",
    "# id_of_machine, cpu, core_freq, price, is_available\n",
    "\n",
    "# data for region Europe(London), OS (Linux)\n",
    "# 1. M5a (large, xlarge, 2xlarge, 4xlarge)\n",
    "# 2. M5 (large, xlarge, 2xlarge, 4xlarge)\n",
    "# 3. C5n (large, xlarge, 2xlarge, 4xlarge)\n",
    "# 4. r5b (large, xlarge, 2xlarge, 4xlarge)\n",
    "\n",
    "CPU = [2, 4, 8, 16]\n",
    "\n",
    "coreFreq1 = 2.5\n",
    "coreFreq2 = 3.1\n",
    "coreFreq3 = 3.4\n",
    "coreFreq4 = 3.5\n",
    "dictWithPrices = {'1': {'2': 0.11, '4': 0.24, '8': 0.56, '16': 1.44},\n",
    "                  '2': {'2': 0.123, '4': 0.272, '8': 0.642,'16': 1.682},\n",
    "                  '3': {'2': 0.142, '4': 0.31, '8': 0.73, '16': 1.894},\n",
    "                  '4': {'2': 0.189, '4': 0.406, '8': 0.924, '16': 2.296}}\n",
    "\n",
    "dictFreq = {'1': 2.5, '2': 3.1, '3': 3.4, \"4\": 3.5}\n",
    "\n",
    "\n",
    "machines = SetOfMachines(3)\n",
    "switch = ConfigurationOfSwitches(1)\n",
    "for _ in range(3):\n",
    "    machine = ConfigurationOfMachines(1, 4, 'free')\n",
    "    machines.add_machine(machine)\n",
    "machines.add_switch(switch)\n"
   ],
   "metadata": {
    "collapsed": false,
    "pycharm": {
     "name": "#%%\n"
    }
   }
  },
  {
   "cell_type": "code",
   "execution_count": 26,
   "outputs": [
    {
     "data": {
      "text/plain": "0.38"
     },
     "execution_count": 26,
     "metadata": {},
     "output_type": "execute_result"
    }
   ],
   "source": [
    "from setTask import *\n",
    "float(descriptionOffTask.loc[descriptionOffTask[\"indexOfTask\"] == 1][\"complexityOfTask\"])"
   ],
   "metadata": {
    "collapsed": false,
    "pycharm": {
     "name": "#%%\n"
    }
   }
  },
  {
   "cell_type": "code",
   "execution_count": 5,
   "outputs": [
    {
     "data": {
      "text/plain": "pandas.core.series.Series"
     },
     "execution_count": 5,
     "metadata": {},
     "output_type": "execute_result"
    }
   ],
   "source": [
    "from setTaskSequential import *\n",
    "type(descriptionOffTask[\"idOfMachine\"])"
   ],
   "metadata": {
    "collapsed": false,
    "pycharm": {
     "name": "#%%\n"
    }
   }
  },
  {
   "cell_type": "code",
   "execution_count": 56,
   "outputs": [
    {
     "data": {
      "text/plain": "[0]"
     },
     "execution_count": 56,
     "metadata": {},
     "output_type": "execute_result"
    }
   ],
   "source": [
    "import networkx as nx\n",
    "from setParallelExecutionOfTask import *\n",
    "\n",
    "number_of_task = 7\n",
    "g = nx.DiGraph()\n",
    "nodes = list(range(number_of_task))\n",
    "edges = list(map(lambda nod: [nodes[0], nodes[nod]], nodes[1:-1]))\n",
    "edges.extend(list(map(lambda nod: [nodes[nod], nodes[len(nodes) - 1]], nodes[1:]))[:-1])\n",
    "g.add_edges_from(edges)\n",
    "list(g.predecessors(1))\n",
    "a = filter(lambda parent: descriptionOffTask.loc[descriptionOffTask[\"indexOfTask\"] == 1][\"done\"][1] == \"No\", list(g.predecessors(1)))\n",
    "list(a)"
   ],
   "metadata": {
    "collapsed": false,
    "pycharm": {
     "name": "#%%\n"
    }
   }
  },
  {
   "cell_type": "code",
   "execution_count": 58,
   "outputs": [
    {
     "data": {
      "text/plain": "[1, 2, 3, 4, 5]"
     },
     "execution_count": 58,
     "metadata": {},
     "output_type": "execute_result"
    }
   ],
   "source": [
    "list(g.neighbors(0))"
   ],
   "metadata": {
    "collapsed": false,
    "pycharm": {
     "name": "#%%\n"
    }
   }
  },
  {
   "cell_type": "code",
   "execution_count": 3,
   "outputs": [
    {
     "data": {
      "text/plain": "NodeView((0, 1, 2, 3, 4, 5, 6))"
     },
     "execution_count": 3,
     "metadata": {},
     "output_type": "execute_result"
    }
   ],
   "source": [
    "import numpy as np\n",
    "from setParallelExecutionOfTask import *\n",
    "descriptionOffTask[\"priority\"] = np.nan\n",
    "\n",
    "taskGraphParallel.nodes\n",
    "for node in taskGraphParallel.nodes:\n",
    "    if list(g.predecessors(1))\n",
    "\n",
    "\n"
   ],
   "metadata": {
    "collapsed": false,
    "pycharm": {
     "name": "#%%\n"
    }
   }
  },
  {
   "cell_type": "code",
   "execution_count": 11,
   "outputs": [
    {
     "data": {
      "text/plain": "0"
     },
     "execution_count": 11,
     "metadata": {},
     "output_type": "execute_result"
    }
   ],
   "source": [
    "descriptionOffTask[descriptionOffTask[\"done\"] == \"No\"][\"indexOfTask\"][0]"
   ],
   "metadata": {
    "collapsed": false,
    "pycharm": {
     "name": "#%%\n"
    }
   }
  },
  {
   "cell_type": "code",
   "execution_count": 5,
   "outputs": [
    {
     "data": {
      "text/plain": "[]"
     },
     "execution_count": 5,
     "metadata": {},
     "output_type": "execute_result"
    }
   ],
   "source": [
    "list(taskGraphParallel.predecessors(0))\n",
    "\n"
   ],
   "metadata": {
    "collapsed": false,
    "pycharm": {
     "name": "#%%\n"
    }
   }
  },
  {
   "cell_type": "code",
   "execution_count": 19,
   "outputs": [
    {
     "ename": "KeyError",
     "evalue": "0",
     "output_type": "error",
     "traceback": [
      "\u001B[0;31m---------------------------------------------------------------------------\u001B[0m",
      "\u001B[0;31mKeyError\u001B[0m                                  Traceback (most recent call last)",
      "\u001B[0;32m~/anaconda3/envs/pythonProject/lib/python3.9/site-packages/pandas/core/indexes/base.py\u001B[0m in \u001B[0;36mget_loc\u001B[0;34m(self, key, method, tolerance)\u001B[0m\n\u001B[1;32m   3360\u001B[0m             \u001B[0;32mtry\u001B[0m\u001B[0;34m:\u001B[0m\u001B[0;34m\u001B[0m\u001B[0;34m\u001B[0m\u001B[0m\n\u001B[0;32m-> 3361\u001B[0;31m                 \u001B[0;32mreturn\u001B[0m \u001B[0mself\u001B[0m\u001B[0;34m.\u001B[0m\u001B[0m_engine\u001B[0m\u001B[0;34m.\u001B[0m\u001B[0mget_loc\u001B[0m\u001B[0;34m(\u001B[0m\u001B[0mcasted_key\u001B[0m\u001B[0;34m)\u001B[0m\u001B[0;34m\u001B[0m\u001B[0;34m\u001B[0m\u001B[0m\n\u001B[0m\u001B[1;32m   3362\u001B[0m             \u001B[0;32mexcept\u001B[0m \u001B[0mKeyError\u001B[0m \u001B[0;32mas\u001B[0m \u001B[0merr\u001B[0m\u001B[0;34m:\u001B[0m\u001B[0;34m\u001B[0m\u001B[0;34m\u001B[0m\u001B[0m\n",
      "\u001B[0;32m~/anaconda3/envs/pythonProject/lib/python3.9/site-packages/pandas/_libs/index.pyx\u001B[0m in \u001B[0;36mpandas._libs.index.IndexEngine.get_loc\u001B[0;34m()\u001B[0m\n",
      "\u001B[0;32m~/anaconda3/envs/pythonProject/lib/python3.9/site-packages/pandas/_libs/index.pyx\u001B[0m in \u001B[0;36mpandas._libs.index.IndexEngine.get_loc\u001B[0;34m()\u001B[0m\n",
      "\u001B[0;32mpandas/_libs/hashtable_class_helper.pxi\u001B[0m in \u001B[0;36mpandas._libs.hashtable.Int64HashTable.get_item\u001B[0;34m()\u001B[0m\n",
      "\u001B[0;32mpandas/_libs/hashtable_class_helper.pxi\u001B[0m in \u001B[0;36mpandas._libs.hashtable.Int64HashTable.get_item\u001B[0;34m()\u001B[0m\n",
      "\u001B[0;31mKeyError\u001B[0m: 0",
      "\nThe above exception was the direct cause of the following exception:\n",
      "\u001B[0;31mKeyError\u001B[0m                                  Traceback (most recent call last)",
      "\u001B[0;32m/tmp/ipykernel_7164/871582792.py\u001B[0m in \u001B[0;36m<module>\u001B[0;34m\u001B[0m\n\u001B[0;32m----> 1\u001B[0;31m \u001B[0mdescriptionOffTask\u001B[0m\u001B[0;34m[\u001B[0m\u001B[0mdescriptionOffTask\u001B[0m\u001B[0;34m[\u001B[0m\u001B[0;34m\"done\"\u001B[0m\u001B[0;34m]\u001B[0m \u001B[0;34m==\u001B[0m \u001B[0;34m\"Yes\"\u001B[0m\u001B[0;34m]\u001B[0m\u001B[0;34m[\u001B[0m\u001B[0;34m\"indexOfTask\"\u001B[0m\u001B[0;34m]\u001B[0m\u001B[0;34m[\u001B[0m\u001B[0;36m0\u001B[0m\u001B[0;34m]\u001B[0m\u001B[0;34m\u001B[0m\u001B[0;34m\u001B[0m\u001B[0m\n\u001B[0m",
      "\u001B[0;32m~/anaconda3/envs/pythonProject/lib/python3.9/site-packages/pandas/core/series.py\u001B[0m in \u001B[0;36m__getitem__\u001B[0;34m(self, key)\u001B[0m\n\u001B[1;32m    940\u001B[0m \u001B[0;34m\u001B[0m\u001B[0m\n\u001B[1;32m    941\u001B[0m         \u001B[0;32melif\u001B[0m \u001B[0mkey_is_scalar\u001B[0m\u001B[0;34m:\u001B[0m\u001B[0;34m\u001B[0m\u001B[0;34m\u001B[0m\u001B[0m\n\u001B[0;32m--> 942\u001B[0;31m             \u001B[0;32mreturn\u001B[0m \u001B[0mself\u001B[0m\u001B[0;34m.\u001B[0m\u001B[0m_get_value\u001B[0m\u001B[0;34m(\u001B[0m\u001B[0mkey\u001B[0m\u001B[0;34m)\u001B[0m\u001B[0;34m\u001B[0m\u001B[0;34m\u001B[0m\u001B[0m\n\u001B[0m\u001B[1;32m    943\u001B[0m \u001B[0;34m\u001B[0m\u001B[0m\n\u001B[1;32m    944\u001B[0m         \u001B[0;32mif\u001B[0m \u001B[0mis_hashable\u001B[0m\u001B[0;34m(\u001B[0m\u001B[0mkey\u001B[0m\u001B[0;34m)\u001B[0m\u001B[0;34m:\u001B[0m\u001B[0;34m\u001B[0m\u001B[0;34m\u001B[0m\u001B[0m\n",
      "\u001B[0;32m~/anaconda3/envs/pythonProject/lib/python3.9/site-packages/pandas/core/series.py\u001B[0m in \u001B[0;36m_get_value\u001B[0;34m(self, label, takeable)\u001B[0m\n\u001B[1;32m   1049\u001B[0m \u001B[0;34m\u001B[0m\u001B[0m\n\u001B[1;32m   1050\u001B[0m         \u001B[0;31m# Similar to Index.get_value, but we do not fall back to positional\u001B[0m\u001B[0;34m\u001B[0m\u001B[0;34m\u001B[0m\u001B[0;34m\u001B[0m\u001B[0m\n\u001B[0;32m-> 1051\u001B[0;31m         \u001B[0mloc\u001B[0m \u001B[0;34m=\u001B[0m \u001B[0mself\u001B[0m\u001B[0;34m.\u001B[0m\u001B[0mindex\u001B[0m\u001B[0;34m.\u001B[0m\u001B[0mget_loc\u001B[0m\u001B[0;34m(\u001B[0m\u001B[0mlabel\u001B[0m\u001B[0;34m)\u001B[0m\u001B[0;34m\u001B[0m\u001B[0;34m\u001B[0m\u001B[0m\n\u001B[0m\u001B[1;32m   1052\u001B[0m         \u001B[0;32mreturn\u001B[0m \u001B[0mself\u001B[0m\u001B[0;34m.\u001B[0m\u001B[0mindex\u001B[0m\u001B[0;34m.\u001B[0m\u001B[0m_get_values_for_loc\u001B[0m\u001B[0;34m(\u001B[0m\u001B[0mself\u001B[0m\u001B[0;34m,\u001B[0m \u001B[0mloc\u001B[0m\u001B[0;34m,\u001B[0m \u001B[0mlabel\u001B[0m\u001B[0;34m)\u001B[0m\u001B[0;34m\u001B[0m\u001B[0;34m\u001B[0m\u001B[0m\n\u001B[1;32m   1053\u001B[0m \u001B[0;34m\u001B[0m\u001B[0m\n",
      "\u001B[0;32m~/anaconda3/envs/pythonProject/lib/python3.9/site-packages/pandas/core/indexes/base.py\u001B[0m in \u001B[0;36mget_loc\u001B[0;34m(self, key, method, tolerance)\u001B[0m\n\u001B[1;32m   3361\u001B[0m                 \u001B[0;32mreturn\u001B[0m \u001B[0mself\u001B[0m\u001B[0;34m.\u001B[0m\u001B[0m_engine\u001B[0m\u001B[0;34m.\u001B[0m\u001B[0mget_loc\u001B[0m\u001B[0;34m(\u001B[0m\u001B[0mcasted_key\u001B[0m\u001B[0;34m)\u001B[0m\u001B[0;34m\u001B[0m\u001B[0;34m\u001B[0m\u001B[0m\n\u001B[1;32m   3362\u001B[0m             \u001B[0;32mexcept\u001B[0m \u001B[0mKeyError\u001B[0m \u001B[0;32mas\u001B[0m \u001B[0merr\u001B[0m\u001B[0;34m:\u001B[0m\u001B[0;34m\u001B[0m\u001B[0;34m\u001B[0m\u001B[0m\n\u001B[0;32m-> 3363\u001B[0;31m                 \u001B[0;32mraise\u001B[0m \u001B[0mKeyError\u001B[0m\u001B[0;34m(\u001B[0m\u001B[0mkey\u001B[0m\u001B[0;34m)\u001B[0m \u001B[0;32mfrom\u001B[0m \u001B[0merr\u001B[0m\u001B[0;34m\u001B[0m\u001B[0;34m\u001B[0m\u001B[0m\n\u001B[0m\u001B[1;32m   3364\u001B[0m \u001B[0;34m\u001B[0m\u001B[0m\n\u001B[1;32m   3365\u001B[0m         \u001B[0;32mif\u001B[0m \u001B[0mis_scalar\u001B[0m\u001B[0;34m(\u001B[0m\u001B[0mkey\u001B[0m\u001B[0;34m)\u001B[0m \u001B[0;32mand\u001B[0m \u001B[0misna\u001B[0m\u001B[0;34m(\u001B[0m\u001B[0mkey\u001B[0m\u001B[0;34m)\u001B[0m \u001B[0;32mand\u001B[0m \u001B[0;32mnot\u001B[0m \u001B[0mself\u001B[0m\u001B[0;34m.\u001B[0m\u001B[0mhasnans\u001B[0m\u001B[0;34m:\u001B[0m\u001B[0;34m\u001B[0m\u001B[0;34m\u001B[0m\u001B[0m\n",
      "\u001B[0;31mKeyError\u001B[0m: 0"
     ]
    }
   ],
   "source": [
    "descriptionOffTask[descriptionOffTask[\"done\"] == \"Yes\"][\"indexOfTask\"][0]"
   ],
   "metadata": {
    "collapsed": false,
    "pycharm": {
     "name": "#%%\n"
    }
   }
  },
  {
   "cell_type": "code",
   "execution_count": 16,
   "outputs": [
    {
     "data": {
      "text/plain": "7"
     },
     "execution_count": 16,
     "metadata": {},
     "output_type": "execute_result"
    }
   ],
   "source": [
    "len(descriptionOffTask[descriptionOffTask[\"done\"] == \"No\"])\n"
   ],
   "metadata": {
    "collapsed": false,
    "pycharm": {
     "name": "#%%\n"
    }
   }
  },
  {
   "cell_type": "code",
   "execution_count": 21,
   "outputs": [
    {
     "data": {
      "text/plain": "0"
     },
     "execution_count": 21,
     "metadata": {},
     "output_type": "execute_result"
    }
   ],
   "source": [
    "task_id = descriptionOffTask[descriptionOffTask[\"done\"] == \"No\"][\"indexOfTask\"].iloc[0]\n",
    "task_id"
   ],
   "metadata": {
    "collapsed": false,
    "pycharm": {
     "name": "#%%\n"
    }
   }
  },
  {
   "cell_type": "code",
   "execution_count": null,
   "outputs": [],
   "source": [
    "filter(lambda parent: descriptionOffTask.loc[descriptionOffTask[\"indexOfTask\"] == task_id][\"done\"][0] == \"No\", list(taskGraphParallel.predecessors(task_id))) == 0"
   ],
   "metadata": {
    "collapsed": false,
    "pycharm": {
     "name": "#%%\n"
    }
   }
  },
  {
   "cell_type": "code",
   "execution_count": 22,
   "outputs": [
    {
     "data": {
      "text/plain": "[]"
     },
     "execution_count": 22,
     "metadata": {},
     "output_type": "execute_result"
    }
   ],
   "source": [
    "list(taskGraphParallel.predecessors(1))"
   ],
   "metadata": {
    "collapsed": false,
    "pycharm": {
     "name": "#%%\n"
    }
   }
  },
  {
   "cell_type": "code",
   "execution_count": 37,
   "outputs": [
    {
     "data": {
      "text/plain": "True"
     },
     "execution_count": 37,
     "metadata": {},
     "output_type": "execute_result"
    }
   ],
   "source": [
    "(descriptionOffTask[descriptionOffTask[\"indexOfTask\"] == task_id][\"done\"] == \"No\")[0] == True"
   ],
   "metadata": {
    "collapsed": false,
    "pycharm": {
     "name": "#%%\n"
    }
   }
  },
  {
   "cell_type": "code",
   "execution_count": null,
   "outputs": [],
   "source": [
    "filter(lambda parent: descriptionOffTask.loc[descriptionOffTask[\"indexOfTask\"] == task_id][\"done\"][0] == \"No\", list(taskGraphParallel.predecessors(task_id))) == 0"
   ],
   "metadata": {
    "collapsed": false,
    "pycharm": {
     "name": "#%%\n"
    }
   }
  },
  {
   "cell_type": "code",
   "execution_count": 50,
   "outputs": [
    {
     "ename": "ValueError",
     "evalue": "The truth value of a Series is ambiguous. Use a.empty, a.bool(), a.item(), a.any() or a.all().",
     "output_type": "error",
     "traceback": [
      "\u001B[0;31m---------------------------------------------------------------------------\u001B[0m",
      "\u001B[0;31mValueError\u001B[0m                                Traceback (most recent call last)",
      "\u001B[0;32m/tmp/ipykernel_7164/2399239567.py\u001B[0m in \u001B[0;36m<module>\u001B[0;34m\u001B[0m\n\u001B[0;32m----> 1\u001B[0;31m \u001B[0mlist\u001B[0m\u001B[0;34m(\u001B[0m\u001B[0mfilter\u001B[0m\u001B[0;34m(\u001B[0m\u001B[0;32mlambda\u001B[0m \u001B[0mparent\u001B[0m\u001B[0;34m:\u001B[0m \u001B[0mdescriptionOffTask\u001B[0m\u001B[0;34m.\u001B[0m\u001B[0mloc\u001B[0m\u001B[0;34m[\u001B[0m\u001B[0mdescriptionOffTask\u001B[0m\u001B[0;34m[\u001B[0m\u001B[0;34m\"indexOfTask\"\u001B[0m\u001B[0;34m]\u001B[0m \u001B[0;34m==\u001B[0m \u001B[0mparent\u001B[0m\u001B[0;34m]\u001B[0m\u001B[0;34m[\u001B[0m\u001B[0;34m\"done\"\u001B[0m\u001B[0;34m]\u001B[0m \u001B[0;34m==\u001B[0m \u001B[0;34m\"No\"\u001B[0m\u001B[0;34m,\u001B[0m \u001B[0mlist\u001B[0m\u001B[0;34m(\u001B[0m\u001B[0mtaskGraphParallel\u001B[0m\u001B[0;34m.\u001B[0m\u001B[0mpredecessors\u001B[0m\u001B[0;34m(\u001B[0m\u001B[0;36m6\u001B[0m\u001B[0;34m)\u001B[0m\u001B[0;34m)\u001B[0m\u001B[0;34m)\u001B[0m\u001B[0;34m)\u001B[0m\u001B[0;34m\u001B[0m\u001B[0;34m\u001B[0m\u001B[0m\n\u001B[0m\u001B[1;32m      2\u001B[0m \u001B[0;34m\u001B[0m\u001B[0m\n",
      "\u001B[0;32m~/anaconda3/envs/pythonProject/lib/python3.9/site-packages/pandas/core/generic.py\u001B[0m in \u001B[0;36m__nonzero__\u001B[0;34m(self)\u001B[0m\n\u001B[1;32m   1535\u001B[0m     \u001B[0;34m@\u001B[0m\u001B[0mfinal\u001B[0m\u001B[0;34m\u001B[0m\u001B[0;34m\u001B[0m\u001B[0m\n\u001B[1;32m   1536\u001B[0m     \u001B[0;32mdef\u001B[0m \u001B[0m__nonzero__\u001B[0m\u001B[0;34m(\u001B[0m\u001B[0mself\u001B[0m\u001B[0;34m)\u001B[0m\u001B[0;34m:\u001B[0m\u001B[0;34m\u001B[0m\u001B[0;34m\u001B[0m\u001B[0m\n\u001B[0;32m-> 1537\u001B[0;31m         raise ValueError(\n\u001B[0m\u001B[1;32m   1538\u001B[0m             \u001B[0;34mf\"The truth value of a {type(self).__name__} is ambiguous. \"\u001B[0m\u001B[0;34m\u001B[0m\u001B[0;34m\u001B[0m\u001B[0m\n\u001B[1;32m   1539\u001B[0m             \u001B[0;34m\"Use a.empty, a.bool(), a.item(), a.any() or a.all().\"\u001B[0m\u001B[0;34m\u001B[0m\u001B[0;34m\u001B[0m\u001B[0m\n",
      "\u001B[0;31mValueError\u001B[0m: The truth value of a Series is ambiguous. Use a.empty, a.bool(), a.item(), a.any() or a.all()."
     ]
    }
   ],
   "source": [
    "list(filter(lambda parent: descriptionOffTask.loc[descriptionOffTask[\"indexOfTask\"] == parent][\"done\"] == \"No\", list(taskGraphParallel.predecessors(6))))"
   ],
   "metadata": {
    "collapsed": false,
    "pycharm": {
     "name": "#%%\n"
    }
   }
  },
  {
   "cell_type": "code",
   "execution_count": 63,
   "outputs": [
    {
     "data": {
      "text/plain": "False"
     },
     "execution_count": 63,
     "metadata": {},
     "output_type": "execute_result"
    }
   ],
   "source": [],
   "metadata": {
    "collapsed": false,
    "pycharm": {
     "name": "#%%\n"
    }
   }
  },
  {
   "cell_type": "code",
   "execution_count": 82,
   "outputs": [
    {
     "data": {
      "text/plain": "[1, 2, 3, 4, 5]"
     },
     "execution_count": 82,
     "metadata": {},
     "output_type": "execute_result"
    }
   ],
   "source": [
    "list(filter(lambda parent : (descriptionOffTask[descriptionOffTask[\"indexOfTask\"] == 1][\"done\"] == \"No\").iloc[0], list(taskGraphParallel.predecessors(6))))"
   ],
   "metadata": {
    "collapsed": false,
    "pycharm": {
     "name": "#%%\n"
    }
   }
  },
  {
   "cell_type": "code",
   "execution_count": 81,
   "outputs": [
    {
     "data": {
      "text/plain": "True"
     },
     "execution_count": 81,
     "metadata": {},
     "output_type": "execute_result"
    }
   ],
   "source": [
    "(descriptionOffTask[descriptionOffTask[\"indexOfTask\"] == 1][\"done\"] == \"No\").iloc[0]"
   ],
   "metadata": {
    "collapsed": false,
    "pycharm": {
     "name": "#%%\n"
    }
   }
  },
  {
   "cell_type": "code",
   "execution_count": 85,
   "outputs": [
    {
     "data": {
      "text/plain": "array([   1,    2,    3,    4,    5,    6,    7,    8,    9,   10,   11,\n         12,   13,   14,   15,   16,   17,   18,   19,   20,   21,   22,\n         23,   24,   25,   26,   27,   28,   29,   30,   31,   32,   33,\n         34,   35,   36,   37,   38,   39,   40,   41,   42,   43,   44,\n         45,   46,   47,   48,   49,   50,   51,   52,   53,   54,   55,\n         56,   57,   58,   59,   60,   61,   62,   63,   64,   65,   66,\n         67,   68,   69,   70,   71,   72,   73,   74,   75,   76,   77,\n         78,   79,   80,   81,   82,   83,   84,   85,   86,   87,   88,\n         89,   90,   91,   92,   93,   94,   95,   96,   97,   98,   99,\n        100,  101,  102,  103,  104,  105,  106,  107,  108,  109,  110,\n        111,  112,  113,  114,  115,  116,  117,  118,  119,  120,  121,\n        122,  123,  124,  125,  126,  127,  128,  129,  130,  131,  132,\n        133,  134,  135,  136,  137,  138,  139,  140,  141,  142,  143,\n        144,  145,  146,  147,  148,  149,  150,  151,  152,  153,  154,\n        155,  156,  157,  158,  159,  160,  161,  162,  163,  164,  165,\n        166,  167,  168,  169,  170,  171,  172,  173,  174,  175,  176,\n        177,  178,  179,  180,  181,  182,  183,  184,  185,  186,  187,\n        188,  189,  190,  191,  192,  193,  194,  195,  196,  197,  198,\n        199,  200,  201,  202,  203,  204,  205,  206,  207,  208,  209,\n        210,  211,  212,  213,  214,  215,  216,  217,  218,  219,  220,\n        221,  222,  223,  224,  225,  226,  227,  228,  229,  230,  231,\n        232,  233,  234,  235,  236,  237,  238,  239,  240,  241,  242,\n        243,  244,  245,  246,  247,  248,  249,  250,  251,  252,  253,\n        254,  255,  256,  257,  258,  259,  260,  261,  262,  263,  264,\n        265,  266,  267,  268,  269,  270,  271,  272,  273,  274,  275,\n        276,  277,  278,  279,  280,  281,  282,  283,  284,  285,  286,\n        287,  288,  289,  290,  291,  292,  293,  294,  295,  296,  297,\n        298,  299,  300,  301,  302,  303,  304,  305,  306,  307,  308,\n        309,  310,  311,  312,  313,  314,  315,  316,  317,  318,  319,\n        320,  321,  322,  323,  324,  325,  326,  327,  328,  329,  330,\n        331,  332,  333,  334,  335,  336,  337,  338,  339,  340,  341,\n        342,  343,  344,  345,  346,  347,  348,  349,  350,  351,  352,\n        353,  354,  355,  356,  357,  358,  359,  360,  361,  362,  363,\n        364,  365,  366,  367,  368,  369,  370,  371,  372,  373,  374,\n        375,  376,  377,  378,  379,  380,  381,  382,  383,  384,  385,\n        386,  387,  388,  389,  390,  391,  392,  393,  394,  395,  396,\n        397,  398,  399,  400,  401,  402,  403,  404,  405,  406,  407,\n        408,  409,  410,  411,  412,  413,  414,  415,  416,  417,  418,\n        419,  420,  421,  422,  423,  424,  425,  426,  427,  428,  429,\n        430,  431,  432,  433,  434,  435,  436,  437,  438,  439,  440,\n        441,  442,  443,  444,  445,  446,  447,  448,  449,  450,  451,\n        452,  453,  454,  455,  456,  457,  458,  459,  460,  461,  462,\n        463,  464,  465,  466,  467,  468,  469,  470,  471,  472,  473,\n        474,  475,  476,  477,  478,  479,  480,  481,  482,  483,  484,\n        485,  486,  487,  488,  489,  490,  491,  492,  493,  494,  495,\n        496,  497,  498,  499,  500,  501,  502,  503,  504,  505,  506,\n        507,  508,  509,  510,  511,  512,  513,  514,  515,  516,  517,\n        518,  519,  520,  521,  522,  523,  524,  525,  526,  527,  528,\n        529,  530,  531,  532,  533,  534,  535,  536,  537,  538,  539,\n        540,  541,  542,  543,  544,  545,  546,  547,  548,  549,  550,\n        551,  552,  553,  554,  555,  556,  557,  558,  559,  560,  561,\n        562,  563,  564,  565,  566,  567,  568,  569,  570,  571,  572,\n        573,  574,  575,  576,  577,  578,  579,  580,  581,  582,  583,\n        584,  585,  586,  587,  588,  589,  590,  591,  592,  593,  594,\n        595,  596,  597,  598,  599,  600,  601,  602,  603,  604,  605,\n        606,  607,  608,  609,  610,  611,  612,  613,  614,  615,  616,\n        617,  618,  619,  620,  621,  622,  623,  624,  625,  626,  627,\n        628,  629,  630,  631,  632,  633,  634,  635,  636,  637,  638,\n        639,  640,  641,  642,  643,  644,  645,  646,  647,  648,  649,\n        650,  651,  652,  653,  654,  655,  656,  657,  658,  659,  660,\n        661,  662,  663,  664,  665,  666,  667,  668,  669,  670,  671,\n        672,  673,  674,  675,  676,  677,  678,  679,  680,  681,  682,\n        683,  684,  685,  686,  687,  688,  689,  690,  691,  692,  693,\n        694,  695,  696,  697,  698,  699,  700,  701,  702,  703,  704,\n        705,  706,  707,  708,  709,  710,  711,  712,  713,  714,  715,\n        716,  717,  718,  719,  720,  721,  722,  723,  724,  725,  726,\n        727,  728,  729,  730,  731,  732,  733,  734,  735,  736,  737,\n        738,  739,  740,  741,  742,  743,  744,  745,  746,  747,  748,\n        749,  750,  751,  752,  753,  754,  755,  756,  757,  758,  759,\n        760,  761,  762,  763,  764,  765,  766,  767,  768,  769,  770,\n        771,  772,  773,  774,  775,  776,  777,  778,  779,  780,  781,\n        782,  783,  784,  785,  786,  787,  788,  789,  790,  791,  792,\n        793,  794,  795,  796,  797,  798,  799,  800,  801,  802,  803,\n        804,  805,  806,  807,  808,  809,  810,  811,  812,  813,  814,\n        815,  816,  817,  818,  819,  820,  821,  822,  823,  824,  825,\n        826,  827,  828,  829,  830,  831,  832,  833,  834,  835,  836,\n        837,  838,  839,  840,  841,  842,  843,  844,  845,  846,  847,\n        848,  849,  850,  851,  852,  853,  854,  855,  856,  857,  858,\n        859,  860,  861,  862,  863,  864,  865,  866,  867,  868,  869,\n        870,  871,  872,  873,  874,  875,  876,  877,  878,  879,  880,\n        881,  882,  883,  884,  885,  886,  887,  888,  889,  890,  891,\n        892,  893,  894,  895,  896,  897,  898,  899,  900,  901,  902,\n        903,  904,  905,  906,  907,  908,  909,  910,  911,  912,  913,\n        914,  915,  916,  917,  918,  919,  920,  921,  922,  923,  924,\n        925,  926,  927,  928,  929,  930,  931,  932,  933,  934,  935,\n        936,  937,  938,  939,  940,  941,  942,  943,  944,  945,  946,\n        947,  948,  949,  950,  951,  952,  953,  954,  955,  956,  957,\n        958,  959,  960,  961,  962,  963,  964,  965,  966,  967,  968,\n        969,  970,  971,  972,  973,  974,  975,  976,  977,  978,  979,\n        980,  981,  982,  983,  984,  985,  986,  987,  988,  989,  990,\n        991,  992,  993,  994,  995,  996,  997,  998,  999, 1000])"
     },
     "execution_count": 85,
     "metadata": {},
     "output_type": "execute_result"
    }
   ],
   "source": [
    "np.linspace(1, 1000, 1000, dtype = int)"
   ],
   "metadata": {
    "collapsed": false,
    "pycharm": {
     "name": "#%%\n"
    }
   }
  },
  {
   "cell_type": "code",
   "execution_count": 86,
   "outputs": [
    {
     "name": "stdout",
     "output_type": "stream",
     "text": [
      "1\n",
      "2\n",
      "3\n",
      "4\n",
      "5\n",
      "6\n",
      "7\n",
      "8\n",
      "9\n",
      "10\n",
      "11\n",
      "12\n",
      "13\n",
      "14\n",
      "15\n",
      "16\n",
      "17\n",
      "18\n",
      "19\n",
      "20\n",
      "21\n",
      "22\n",
      "23\n",
      "24\n",
      "25\n",
      "26\n",
      "27\n",
      "28\n",
      "29\n",
      "30\n",
      "31\n",
      "32\n",
      "33\n",
      "34\n",
      "35\n",
      "36\n",
      "37\n",
      "38\n",
      "39\n",
      "40\n",
      "41\n",
      "42\n",
      "43\n",
      "44\n",
      "45\n",
      "46\n",
      "47\n",
      "48\n",
      "49\n",
      "50\n",
      "51\n",
      "52\n",
      "53\n",
      "54\n",
      "55\n",
      "56\n",
      "57\n",
      "58\n",
      "59\n",
      "60\n",
      "61\n",
      "62\n",
      "63\n",
      "64\n",
      "65\n",
      "66\n",
      "67\n",
      "68\n",
      "69\n",
      "70\n",
      "71\n",
      "72\n",
      "73\n",
      "74\n",
      "75\n",
      "76\n",
      "77\n",
      "78\n",
      "79\n",
      "80\n",
      "81\n",
      "82\n",
      "83\n",
      "84\n",
      "85\n",
      "86\n",
      "87\n",
      "88\n",
      "89\n",
      "90\n",
      "91\n",
      "92\n",
      "93\n",
      "94\n",
      "95\n",
      "96\n",
      "97\n",
      "98\n",
      "99\n",
      "100\n"
     ]
    }
   ],
   "source": [
    "for i in np.linspace(1, 100, 100, dtype = int):\n",
    "    print(i)"
   ],
   "metadata": {
    "collapsed": false,
    "pycharm": {
     "name": "#%%\n"
    }
   }
  },
  {
   "cell_type": "code",
   "execution_count": 24,
   "outputs": [
    {
     "data": {
      "text/plain": "[5.0,\n 6.2,\n 6.8,\n 7.0,\n 10.0,\n 12.4,\n 13.6,\n 14.0,\n 20.0,\n 24.8,\n 27.2,\n 28.0,\n 40.0,\n 49.6,\n 54.4,\n 56.0]"
     },
     "execution_count": 24,
     "metadata": {},
     "output_type": "execute_result"
    }
   ],
   "source": [
    "from newSelectMachinesWithHrZ.parameters import *\n",
    "import numpy as np\n",
    "coreFreq1 = 2.5\n",
    "coreFreq2 = 3.1\n",
    "coreFreq3 = 3.4\n",
    "coreFreq4 = 3.5\n",
    "\n",
    "CPU = np.array([2, 4, 8, 16])\n",
    "coreFreq = np.array([coreFreq1, coreFreq2, coreFreq3, coreFreq4])\n",
    "# sorted_lost_of_configuration_machine = list(map(lambda y: list(map(lambda x: x * y, coreFreq)), CPU))\n",
    "sorted_lost_of_configuration_machine = np.array(list(map(lambda y: CPU * y, coreFreq)))\n",
    "list(np.sort(sorted_lost_of_configuration_machine.flatten()))\n",
    "\n",
    "sorted_lost_of_configuration_machine = list(np.sort(np.array(list(map(lambda y: CPU * y, coreFreq))).flatten()))"
   ],
   "metadata": {
    "collapsed": false,
    "pycharm": {
     "name": "#%%\n"
    }
   }
  },
  {
   "cell_type": "code",
   "execution_count": 63,
   "outputs": [
    {
     "data": {
      "text/plain": "[(16, 3.5),\n (16, 3.4),\n (16, 3.1),\n (16, 2.5),\n (8, 3.5),\n (8, 3.4),\n (8, 3.1),\n (8, 2.5),\n (4, 3.5),\n (4, 3.4),\n (4, 3.1),\n (4, 2.5),\n (2, 3.5),\n (2, 3.4),\n (2, 3.1),\n (2, 2.5)]"
     },
     "execution_count": 63,
     "metadata": {},
     "output_type": "execute_result"
    }
   ],
   "source": [
    "from newSelectMachinesWithHrZ.parameters import *\n",
    "import numpy as np\n",
    "import itertools\n",
    "\n",
    "coreFreq1 = 2.5\n",
    "coreFreq2 = 3.1\n",
    "coreFreq3 = 3.4\n",
    "coreFreq4 = 3.5\n",
    "\n",
    "CPU = np.array([2, 4, 8, 16])\n",
    "coreFreq = np.array([coreFreq1, coreFreq2, coreFreq3, coreFreq4])\n",
    "sorted_lost_of_configuration_machine = list(map(lambda x: list(zip(CPU, [x]*len(CPU))), coreFreq))\n",
    "sorted_lost_of_configuration_machine = sorted(list(itertools.chain(*sorted_lost_of_configuration_machine)), key=lambda tup:tup[0])\n",
    "sorted_lost_of_configuration_machine[::-1]"
   ],
   "metadata": {
    "collapsed": false,
    "pycharm": {
     "name": "#%%\n"
    }
   }
  },
  {
   "cell_type": "code",
   "execution_count": 2,
   "outputs": [
    {
     "data": {
      "text/plain": "(16, 4)"
     },
     "execution_count": 2,
     "metadata": {},
     "output_type": "execute_result"
    }
   ],
   "source": [
    "from newSelectMachinesWithHrZ.find_optimal_minimum_and_maximum_numbers_of_machine import define_task, find_common_price\n",
    "import itertools\n",
    "from newSelectMachinesWithHrZ.algorithmOfParalleltask import *\n",
    "\n",
    "CPU = [2, 4, 8, 16]\n",
    "coreFreqValues = [coreFreq1, coreFreq2, coreFreq3, coreFreq4]\n",
    "coreFreq = [1, 2, 3, 4]\n",
    "price_limit = 9000\n",
    "sorted_list_of_configuration_machine = list(map(lambda x: list(zip(CPU, [x] * len(CPU))), coreFreq))\n",
    "sorted_list_of_configuration_machine = sorted(list(itertools.chain(*sorted_list_of_configuration_machine)), reverse=True)\n",
    "\n",
    "itr = iter(sorted_list_of_configuration_machine)\n",
    "\n",
    "next(itr)\n"
   ],
   "metadata": {
    "collapsed": false,
    "pycharm": {
     "name": "#%%\n"
    }
   }
  },
  {
   "cell_type": "code",
   "execution_count": 13,
   "outputs": [
    {
     "name": "stdout",
     "output_type": "stream",
     "text": [
      "selected_machines [(8, 3), (8, 3)]\n",
      "price_of_all_working 5855.41555882353\n",
      "working_time_of_current_package 3198.75005882353\n"
     ]
    },
    {
     "data": {
      "text/plain": "array([0.2 , 0.05])"
     },
     "execution_count": 13,
     "metadata": {},
     "output_type": "execute_result"
    }
   ],
   "source": [
    "from newSelectMachinesWithHrZ.greedyAlgorithm import *\n",
    "CPU = [2, 4, 8, 16]\n",
    "coreFreqValues = [coreFreq1, coreFreq2, coreFreq3, coreFreq4]\n",
    "coreFreq = [1, 2, 3, 4]\n",
    "price_limit = 6000\n",
    "selected_machines, cost_of_current_package, working_time_of_current_package, scheduling_table_of_current_package = greedy_algorithm_for_configuration_of_machine(CPU, coreFreq, price_limit)\n",
    "\n",
    "\n",
    "\n",
    "# from evaluating of effectiveness of working of greedy algorithms xl <= x* <=2xl\n",
    "# where xl - results of working greedy algorithm\n",
    "\n",
    "import numpy as np\n",
    "\n",
    "sorted_list_of_configuration_machine = list(map(lambda x: list(zip(CPU, [x] * len(CPU))), coreFreq))\n",
    "sorted_list_of_configuration_machine = sorted(list(itertools.chain(*sorted_list_of_configuration_machine)),\n",
    "                                              reverse=True)\n",
    "\n",
    "\n",
    "# scale machines as follows\n",
    "# scaled_selected_machines = np.array(sorted_list_of_configuration_machine) / (np.array(selected_machines) * 0.2 / len(sorted_list_of_configuration_machine))\n",
    "# scaled_selected_machines\n",
    "\n",
    "\n",
    "np.array(sorted_list_of_configuration_machine)  / (np.array((16, 4))  * 0.2 / len(sorted_list_of_configuration_machine))"
   ],
   "metadata": {
    "collapsed": false,
    "pycharm": {
     "name": "#%%\n"
    }
   }
  },
  {
   "cell_type": "code",
   "execution_count": 3,
   "outputs": [
    {
     "name": "stdout",
     "output_type": "stream",
     "text": [
      "[(16, 4), (16, 3), (16, 2), (16, 1), (8, 4), (8, 3), (8, 2), (8, 1), (4, 4), (4, 3), (4, 2), (4, 1), (2, 4), (2, 3), (2, 2), (2, 1)]\n",
      "[64, 48, 32, 16, 32, 24, 16, 8, 16, 12, 8, 4, 8, 6, 4, 2]\n",
      "{1: {2: 0.11, 4: 0.24, 8: 0.56, 16: 1.44}, 2: {2: 0.123, 4: 0.272, 8: 0.642, 16: 1.682}, 3: {2: 0.142, 4: 0.31, 8: 0.73, 16: 1.894}, 4: {2: 0.189, 4: 0.406, 8: 0.924, 16: 2.296}}\n"
     ]
    }
   ],
   "source": [
    "from newSelectMachinesWithHrZ.find_optimal_minimum_and_maximum_numbers_of_machine import define_task, find_common_price\n",
    "import itertools\n",
    "from newSelectMachinesWithHrZ.algorithmOfParalleltask import *\n",
    "CPU = [2, 4, 8, 16] # cpu\n",
    "coreFreqValues = [coreFreq1, coreFreq2, coreFreq3, coreFreq4]\n",
    "coreFreq = [1, 2, 3, 4] # id_of_configuration\n",
    "sorted_list_of_configuration_machine = list(map(lambda x: list(zip(CPU, [x] * len(CPU))), coreFreq))\n",
    "sorted_list_of_configuration_machine = sorted(list(itertools.chain(*sorted_list_of_configuration_machine)), reverse=True)\n",
    "print(sorted_list_of_configuration_machine)\n",
    "mult_sorted_list_of_configuration_machine = list(map(lambda x: x[0] * coreFreqValues[x[1]-1], sorted_list_of_configuration_machine))\n",
    "# rate_price_conf =\n",
    "print(mult_sorted_list_of_configuration_machine)\n",
    "print(dictWithPrices)"
   ],
   "metadata": {
    "collapsed": false,
    "pycharm": {
     "name": "#%%\n"
    }
   }
  },
  {
   "cell_type": "code",
   "execution_count": 17,
   "outputs": [
    {
     "name": "stdout",
     "output_type": "stream",
     "text": [
      "{(16, 1): 0.09, (8, 1): 0.07, (4, 1): 0.06, (2, 1): 0.055, (16, 2): 0.0525625, (8, 2): 0.040125, (16, 3): 0.03945833333333333, (16, 4): 0.035875, (4, 2): 0.034, (2, 2): 0.03075, (8, 3): 0.030416666666666665, (8, 4): 0.028875, (4, 3): 0.025833333333333333, (4, 4): 0.025375, (2, 3): 0.023666666666666666, (2, 4): 0.023625}\n"
     ]
    },
    {
     "data": {
      "text/plain": "[(16, 1),\n (8, 1),\n (4, 1),\n (2, 1),\n (16, 2),\n (8, 2),\n (16, 3),\n (16, 4),\n (4, 2),\n (2, 2),\n (8, 3),\n (8, 4),\n (4, 3),\n (4, 4),\n (2, 3),\n (2, 4)]"
     },
     "execution_count": 17,
     "metadata": {},
     "output_type": "execute_result"
    }
   ],
   "source": [
    "rate_price_conf = {}\n",
    "for i, val in enumerate(sorted_list_of_configuration_machine):\n",
    "    rate_price_conf[val] = (dictWithPrices[val[1]][val[0]] / mult_sorted_list_of_configuration_machine[i])\n",
    "rate_price_conf = dict(sorted(rate_price_conf.items(), key=lambda item: item[1], reverse=True))\n",
    "print(rate_price_conf)\n",
    "list(rate_price_conf.keys())"
   ],
   "metadata": {
    "collapsed": false,
    "pycharm": {
     "name": "#%%\n"
    }
   }
  },
  {
   "cell_type": "code",
   "execution_count": 3,
   "outputs": [
    {
     "data": {
      "text/plain": "{5}"
     },
     "execution_count": 3,
     "metadata": {},
     "output_type": "execute_result"
    }
   ],
   "source": [
    "set([5,5,5])"
   ],
   "metadata": {
    "collapsed": false,
    "pycharm": {
     "name": "#%%\n"
    }
   }
  },
  {
   "cell_type": "code",
   "execution_count": 20,
   "outputs": [
    {
     "data": {
      "text/plain": "[4, 3, 2, 2, 2, 2, 2, 1]"
     },
     "execution_count": 20,
     "metadata": {},
     "output_type": "execute_result"
    }
   ],
   "source": [
    "from newSelectMachinesWithHrZ.algorithmOfParalleltask import *\n",
    "import itertools\n",
    "\n",
    "CPU = [2, 4, 8, 16] # cpu\n",
    "coreFreqValues = [coreFreq1, coreFreq2, coreFreq3, coreFreq4]\n",
    "coreFreq = [1, 2, 3, 4] # id_of_configuration\n",
    "\n",
    "\n",
    "sorted_list_of_configuration_machine_parallel = list(map(lambda x :(min(CPU), x),  coreFreq))\n",
    "\n",
    "\n",
    "sorted_list_of_configuration_machine_parallel = sorted(\n",
    "        list(itertools.chain(*sorted_list_of_configuration_machine_parallel)), reverse=True)\n",
    "sorted_list_of_configuration_machine_parallel\n",
    "# (map(lambda x: list(zip(min(CPU) * len(coreFreq), [x])), coreFreq))"
   ],
   "metadata": {
    "collapsed": false,
    "pycharm": {
     "name": "#%%\n"
    }
   }
  },
  {
   "cell_type": "code",
   "execution_count": 32,
   "outputs": [
    {
     "data": {
      "text/plain": "[(2, 4), (2, 3), (2, 2), (2, 1)]"
     },
     "execution_count": 32,
     "metadata": {},
     "output_type": "execute_result"
    }
   ],
   "source": [
    "sorted_list_of_configuration_machine_parallel = list(map(lambda x: list(zip([min(CPU)], [x])), coreFreq))\n",
    "sorted_list_of_configuration_machine_parallel = sorted(list(itertools.chain(*sorted_list_of_configuration_machine_parallel)), reverse=True)\n",
    "sorted_list_of_configuration_machine_parallel"
   ],
   "metadata": {
    "collapsed": false,
    "pycharm": {
     "name": "#%%\n"
    }
   }
  },
  {
   "cell_type": "code",
   "execution_count": 30,
   "outputs": [
    {
     "data": {
      "text/plain": "[[(2, 1)], [(2, 2)], [(2, 3)], [(2, 4)]]"
     },
     "execution_count": 30,
     "metadata": {},
     "output_type": "execute_result"
    }
   ],
   "source": [
    "list(map(lambda x: list(zip([min(CPU)], [x])), coreFreq))"
   ],
   "metadata": {
    "collapsed": false,
    "pycharm": {
     "name": "#%%\n"
    }
   }
  },
  {
   "cell_type": "code",
   "execution_count": 27,
   "outputs": [
    {
     "data": {
      "text/plain": "[2.5, 3.1, 3.4, 3.5]"
     },
     "execution_count": 27,
     "metadata": {},
     "output_type": "execute_result"
    }
   ],
   "source": [
    "coreFreqValues\n"
   ],
   "metadata": {
    "collapsed": false,
    "pycharm": {
     "name": "#%%\n"
    }
   }
  },
  {
   "cell_type": "code",
   "execution_count": 10,
   "outputs": [
    {
     "data": {
      "text/plain": "0"
     },
     "execution_count": 10,
     "metadata": {},
     "output_type": "execute_result"
    }
   ],
   "source": [
    "from newSelectMachinesWithHrZ.find_optimal_minimum_and_maximum_numbers_of_machine import define_task, find_common_price\n",
    "\n",
    "taskGraph, descriptionOffTask = define_task()\n",
    "\n",
    "descriptionOffTask.iloc[1][\"possibilityOfParalleling\"]"
   ],
   "metadata": {
    "collapsed": false,
    "pycharm": {
     "name": "#%%\n"
    }
   }
  },
  {
   "cell_type": "code",
   "execution_count": 16,
   "outputs": [
    {
     "data": {
      "text/plain": "array([[0, 0, 0, 1, 0, 0, 2, 0, 1, 0, 1, 0, 0, 1, 0, 0, 0, 0, 0, 0, 0, 0,\n        2, 0, 0, 0, 1, 0, 0, 0, 0, 0]])"
     },
     "execution_count": 16,
     "metadata": {},
     "output_type": "execute_result"
    }
   ],
   "source": [
    "import random\n",
    "import math\n",
    "import numpy as np\n",
    "\n",
    "summa = np.random.randint(1, 16)\n",
    "rng = np.random.default_rng()\n",
    "sample = rng.multinomial(summa, [1 / 32] * 32, size=1)\n",
    "sample"
   ],
   "metadata": {
    "collapsed": false,
    "pycharm": {
     "name": "#%%\n"
    }
   }
  },
  {
   "cell_type": "code",
   "execution_count": 34,
   "outputs": [
    {
     "name": "stdout",
     "output_type": "stream",
     "text": [
      "7\n"
     ]
    },
    {
     "data": {
      "text/plain": "16"
     },
     "execution_count": 34,
     "metadata": {},
     "output_type": "execute_result"
    }
   ],
   "source": [
    "rng = np.random.default_rng()\n",
    "sample_sequential = rng.multinomial(1, [1 / 16] * 16, size=1)\n",
    "\n",
    "\n",
    "\n",
    "summa = np.random.randint(1, 15)\n",
    "rng = np.random.default_rng()\n",
    "sample_parallel = rng.multinomial(summa, [1 / 15] * 15, size=1)\n",
    "\n",
    "print(np.sum(sample_parallel))\n",
    "\n",
    "len(np.append(sample_sequential, sample_parallel)[15:])"
   ],
   "metadata": {
    "collapsed": false,
    "pycharm": {
     "name": "#%%\n"
    }
   }
  },
  {
   "cell_type": "code",
   "execution_count": 35,
   "outputs": [
    {
     "data": {
      "text/plain": "16"
     },
     "execution_count": 35,
     "metadata": {},
     "output_type": "execute_result"
    }
   ],
   "source": [
    "len(np.append(sample_sequential, sample_parallel)[:16])"
   ],
   "metadata": {
    "collapsed": false,
    "pycharm": {
     "name": "#%%\n"
    }
   }
  },
  {
   "cell_type": "code",
   "execution_count": 36,
   "outputs": [
    {
     "data": {
      "text/plain": "array([[0, 4]])"
     },
     "execution_count": 36,
     "metadata": {},
     "output_type": "execute_result"
    }
   ],
   "source": [
    "np.argwhere(sample_sequential == 1)\n"
   ],
   "metadata": {
    "collapsed": false,
    "pycharm": {
     "name": "#%%\n"
    }
   }
  },
  {
   "cell_type": "code",
   "execution_count": 39,
   "outputs": [
    {
     "data": {
      "text/plain": "[10, 1, 2, 0, 1, 1, 0, 0, 2, 2, 0, 2, 0, 0, 0, 2]"
     },
     "execution_count": 39,
     "metadata": {},
     "output_type": "execute_result"
    }
   ],
   "source": [
    "\n",
    "sequential_machine = np.random.randint(0, 15)\n",
    "summa = np.random.randint(1, 15)\n",
    "rng = np.random.default_rng()\n",
    "sample_parallel = rng.multinomial(summa, [1 / 15] * 15, size=1)\n",
    "\n",
    "np.append(sequential_machine, sample_parallel).tolist()"
   ],
   "metadata": {
    "collapsed": false,
    "pycharm": {
     "name": "#%%\n"
    }
   }
  },
  {
   "cell_type": "code",
   "execution_count": 45,
   "outputs": [
    {
     "data": {
      "text/plain": "[(1, 2), (3, 4), (5, 6)]"
     },
     "execution_count": 45,
     "metadata": {},
     "output_type": "execute_result"
    }
   ],
   "source": [
    "l = [1,2,3,4,5,6]\n",
    "l[::2]\n",
    "l[1::2]\n",
    "\n",
    "list(zip(l[::2], l[1::2]))"
   ],
   "metadata": {
    "collapsed": false,
    "pycharm": {
     "name": "#%%\n"
    }
   }
  },
  {
   "cell_type": "code",
   "execution_count": 12,
   "outputs": [
    {
     "name": "stdout",
     "output_type": "stream",
     "text": [
      "1 16\n"
     ]
    },
    {
     "data": {
      "text/plain": "array([[0, 0, 0, 0, 1, 0, 0, 0, 0, 0, 0, 0, 0, 0, 0, 0]])"
     },
     "execution_count": 12,
     "metadata": {},
     "output_type": "execute_result"
    }
   ],
   "source": [
    "import numpy as np\n",
    "sequential_machine = np.random.randint(1, 16)\n",
    "summa = np.random.randint(1, 15)\n",
    "rng = np.random.default_rng()\n",
    "sample_parallel = rng.multinomial(summa, [1 / 16] * 16, size=1)\n",
    "print(np.sum(sample_parallel), len(sample_parallel[0]))\n",
    "sample_parallel"
   ],
   "metadata": {
    "collapsed": false,
    "pycharm": {
     "name": "#%%\n"
    }
   }
  },
  {
   "cell_type": "code",
   "execution_count": 13,
   "outputs": [
    {
     "data": {
      "text/plain": "[2, 2, 2]"
     },
     "execution_count": 13,
     "metadata": {},
     "output_type": "execute_result"
    }
   ],
   "source": [
    "[2] * 3"
   ],
   "metadata": {
    "collapsed": false,
    "pycharm": {
     "name": "#%%\n"
    }
   }
  },
  {
   "cell_type": "code",
   "execution_count": 14,
   "outputs": [
    {
     "data": {
      "text/plain": "[0, 0, 0]"
     },
     "execution_count": 14,
     "metadata": {},
     "output_type": "execute_result"
    }
   ],
   "source": [
    "[0] * 3"
   ],
   "metadata": {
    "collapsed": false,
    "pycharm": {
     "name": "#%%\n"
    }
   }
  },
  {
   "cell_type": "code",
   "execution_count": 1,
   "outputs": [
    {
     "data": {
      "text/plain": "[]"
     },
     "execution_count": 1,
     "metadata": {},
     "output_type": "execute_result"
    }
   ],
   "source": [
    "[] * 3"
   ],
   "metadata": {
    "collapsed": false,
    "pycharm": {
     "name": "#%%\n"
    }
   }
  },
  {
   "cell_type": "code",
   "execution_count": 3,
   "outputs": [
    {
     "data": {
      "text/plain": "3"
     },
     "execution_count": 3,
     "metadata": {},
     "output_type": "execute_result"
    }
   ],
   "source": [
    "import math\n",
    "min(math.inf, 3)"
   ],
   "metadata": {
    "collapsed": false,
    "pycharm": {
     "name": "#%%\n"
    }
   }
  },
  {
   "cell_type": "code",
   "execution_count": 5,
   "outputs": [
    {
     "data": {
      "text/plain": "95"
     },
     "execution_count": 5,
     "metadata": {},
     "output_type": "execute_result"
    }
   ],
   "source": [
    "int(9557.49327023256 // 100)"
   ],
   "metadata": {
    "collapsed": false,
    "pycharm": {
     "name": "#%%\n"
    }
   }
  },
  {
   "cell_type": "code",
   "execution_count": 8,
   "outputs": [
    {
     "data": {
      "text/plain": "0"
     },
     "execution_count": 8,
     "metadata": {},
     "output_type": "execute_result"
    }
   ],
   "source": [
    "[1,2,2,3].index(2) - 1"
   ],
   "metadata": {
    "collapsed": false,
    "pycharm": {
     "name": "#%%\n"
    }
   }
  },
  {
   "cell_type": "code",
   "execution_count": 10,
   "outputs": [
    {
     "data": {
      "text/plain": "0"
     },
     "execution_count": 10,
     "metadata": {},
     "output_type": "execute_result"
    }
   ],
   "source": [
    "[[1,2], [2,3]].index([1,2])"
   ],
   "metadata": {
    "collapsed": false,
    "pycharm": {
     "name": "#%%\n"
    }
   }
  },
  {
   "cell_type": "code",
   "execution_count": 15,
   "outputs": [
    {
     "name": "stdout",
     "output_type": "stream",
     "text": [
      "[1, 2]\n"
     ]
    }
   ],
   "source": [
    "a = [[1,2], [1,2,3], [2,3], [3]]\n",
    "c = 3\n",
    "for i in a[::-1]:\n",
    "    if c not in i:\n",
    "        print(i)"
   ],
   "metadata": {
    "collapsed": false,
    "pycharm": {
     "name": "#%%\n"
    }
   }
  },
  {
   "cell_type": "code",
   "execution_count": 14,
   "outputs": [
    {
     "data": {
      "text/plain": "[[3], [2, 3], [1, 2, 3], [1, 2]]"
     },
     "execution_count": 14,
     "metadata": {},
     "output_type": "execute_result"
    }
   ],
   "source": [
    "a = [[1,2], [1,2,3], [2,3], [3]]\n",
    "\n",
    "a[::-1]"
   ],
   "metadata": {
    "collapsed": false,
    "pycharm": {
     "name": "#%%\n"
    }
   }
  },
  {
   "cell_type": "code",
   "execution_count": 16,
   "outputs": [
    {
     "data": {
      "text/plain": "[1, 2, 2, 3]"
     },
     "execution_count": 16,
     "metadata": {},
     "output_type": "execute_result"
    }
   ],
   "source": [
    "\n",
    "[1,2] + [2,3]"
   ],
   "metadata": {
    "collapsed": false,
    "pycharm": {
     "name": "#%%\n"
    }
   }
  },
  {
   "cell_type": "code",
   "execution_count": 18,
   "outputs": [
    {
     "data": {
      "text/plain": "0"
     },
     "execution_count": 18,
     "metadata": {},
     "output_type": "execute_result"
    }
   ],
   "source": [
    "[2,3].count(1)"
   ],
   "metadata": {
    "collapsed": false,
    "pycharm": {
     "name": "#%%\n"
    }
   }
  },
  {
   "cell_type": "code",
   "execution_count": 20,
   "outputs": [
    {
     "data": {
      "text/plain": "8"
     },
     "execution_count": 20,
     "metadata": {},
     "output_type": "execute_result"
    }
   ],
   "source": [
    "8987 // 1000"
   ],
   "metadata": {
    "collapsed": false,
    "pycharm": {
     "name": "#%%\n"
    }
   }
  },
  {
   "cell_type": "code",
   "execution_count": 74,
   "outputs": [
    {
     "data": {
      "text/plain": "0    0\n1    1\n2    1\n3    1\n4    1\n5    1\n6    2\nName: priority, dtype: int64"
     },
     "execution_count": 74,
     "metadata": {},
     "output_type": "execute_result"
    }
   ],
   "source": [
    "from newSelectMachinesWithHrZ.setParallelExecutionOfTask import *\n",
    "longest_path_length = lambda target: len(max(nx.all_simple_paths(taskGraphParallel, source=0, target=target),  key=lambda x: len(x), default=[0])) - 1\n",
    "descriptionOffTask[\"priority\"] = descriptionOffTask[\"indexOfTask\"].map(longest_path_length)\n",
    "descriptionOffTask[\"priority\"]"
   ],
   "metadata": {
    "collapsed": false,
    "pycharm": {
     "name": "#%%\n"
    }
   }
  },
  {
   "cell_type": "code",
   "execution_count": 29,
   "outputs": [
    {
     "data": {
      "text/plain": "[[0, 2]]"
     },
     "execution_count": 29,
     "metadata": {},
     "output_type": "execute_result"
    }
   ],
   "source": [
    "list(nx.all_simple_paths(taskGraphParallel, 0, 2))"
   ],
   "metadata": {
    "collapsed": false,
    "pycharm": {
     "name": "#%%\n"
    }
   }
  },
  {
   "cell_type": "code",
   "execution_count": 46,
   "outputs": [
    {
     "data": {
      "text/plain": "1    2.0\n2    1.0\n3    4.0\n4    5.0\n5    3.0\nName: complexityOfTask, dtype: float64"
     },
     "execution_count": 46,
     "metadata": {},
     "output_type": "execute_result"
    }
   ],
   "source": [
    "max(nx.all_simple_paths(taskGraphParallel, source=0, target=1), key=lambda x: len(x), default=0)\n",
    "descriptionOffTask[[\"indexOfTask\", \"complexityOfTask\"]][descriptionOffTask[\"priority\"] == 1][\"complexityOfTask\"].rank()"
   ],
   "metadata": {
    "collapsed": false,
    "pycharm": {
     "name": "#%%\n"
    }
   }
  },
  {
   "cell_type": "code",
   "execution_count": 21,
   "outputs": [
    {
     "data": {
      "text/plain": "[4, 3, 5, 1, 2]"
     },
     "execution_count": 21,
     "metadata": {},
     "output_type": "execute_result"
    }
   ],
   "source": [
    "list(descriptionOffTask[[\"indexOfTask\", \"complexityOfTask\"]][descriptionOffTask[\"priority\"] == 1].sort_values(by=\"complexityOfTask\", ascending=False)[\"indexOfTask\"])"
   ],
   "metadata": {
    "collapsed": false,
    "pycharm": {
     "name": "#%%\n"
    }
   }
  },
  {
   "cell_type": "code",
   "execution_count": 33,
   "outputs": [
    {
     "data": {
      "text/plain": "[0, 1]"
     },
     "execution_count": 33,
     "metadata": {},
     "output_type": "execute_result"
    }
   ],
   "source": [
    "longest_path_length = max(nx.all_simple_paths(taskGraphParallel, source=0, target=1), key=lambda x: len(x))\n",
    "longest_path_length"
   ],
   "metadata": {
    "collapsed": false,
    "pycharm": {
     "name": "#%%\n"
    }
   }
  },
  {
   "cell_type": "code",
   "execution_count": 45,
   "outputs": [
    {
     "data": {
      "text/plain": "[]"
     },
     "execution_count": 45,
     "metadata": {},
     "output_type": "execute_result"
    }
   ],
   "source": [
    "list(nx.all_simple_paths(taskGraphParallel, source=0, target=0))\n"
   ],
   "metadata": {
    "collapsed": false,
    "pycharm": {
     "name": "#%%\n"
    }
   }
  },
  {
   "cell_type": "code",
   "execution_count": 55,
   "outputs": [
    {
     "data": {
      "text/plain": "[0, 1, 6]"
     },
     "execution_count": 55,
     "metadata": {},
     "output_type": "execute_result"
    }
   ],
   "source": [
    "longest_path_length = lambda target: max(nx.all_simple_paths(taskGraphParallel, source=0, target=target), key=lambda x: len(x), default=0)\n",
    "longest_path_length(6)"
   ],
   "metadata": {
    "collapsed": false,
    "pycharm": {
     "name": "#%%\n"
    }
   }
  },
  {
   "cell_type": "code",
   "execution_count": 73,
   "outputs": [
    {
     "data": {
      "text/plain": "0"
     },
     "execution_count": 73,
     "metadata": {},
     "output_type": "execute_result"
    }
   ],
   "source": [
    "len(max(nx.all_simple_paths(taskGraphParallel, source=0, target=0),  key=lambda x: len(x), default=[0])) - 1"
   ],
   "metadata": {
    "collapsed": false,
    "pycharm": {
     "name": "#%%\n"
    }
   }
  },
  {
   "cell_type": "code",
   "execution_count": 64,
   "outputs": [
    {
     "data": {
      "text/plain": "[[0, 2]]"
     },
     "execution_count": 64,
     "metadata": {},
     "output_type": "execute_result"
    }
   ],
   "source": [
    "max(nx.all_simple_paths(taskGraphParallel, 0, 2))"
   ],
   "metadata": {
    "collapsed": false,
    "pycharm": {
     "name": "#%%\n"
    }
   }
  },
  {
   "cell_type": "code",
   "execution_count": 75,
   "outputs": [
    {
     "data": {
      "text/plain": "   indexOfTask  nameOfTask  complexityOfTask  incomingMemory  outgoingMemory  \\\n0            0           0              0.12               0               0   \n1            1           1              0.38               0               0   \n2            2           2              0.00               0               0   \n3            3           3              1.67               0               0   \n4            4           4           1451.20               0               0   \n5            5           5              0.68               0               0   \n6            6           6              0.48               0               0   \n\n   possibilityOfParalleling idOfMachine startTime endTime executingTime  \\\n0                         0        None      None    None          None   \n1                         0        None      None    None          None   \n2                         0        None      None    None          None   \n3                         0        None      None    None          None   \n4                         1        None      None    None          None   \n5                         0        None      None    None          None   \n6                         0        None      None    None          None   \n\n  transferPrice  priority done  \n0          None         0   No  \n1          None         1   No  \n2          None         1   No  \n3          None         1   No  \n4          None         1   No  \n5          None         1   No  \n6          None         2   No  ",
      "text/html": "<div>\n<style scoped>\n    .dataframe tbody tr th:only-of-type {\n        vertical-align: middle;\n    }\n\n    .dataframe tbody tr th {\n        vertical-align: top;\n    }\n\n    .dataframe thead th {\n        text-align: right;\n    }\n</style>\n<table border=\"1\" class=\"dataframe\">\n  <thead>\n    <tr style=\"text-align: right;\">\n      <th></th>\n      <th>indexOfTask</th>\n      <th>nameOfTask</th>\n      <th>complexityOfTask</th>\n      <th>incomingMemory</th>\n      <th>outgoingMemory</th>\n      <th>possibilityOfParalleling</th>\n      <th>idOfMachine</th>\n      <th>startTime</th>\n      <th>endTime</th>\n      <th>executingTime</th>\n      <th>transferPrice</th>\n      <th>priority</th>\n      <th>done</th>\n    </tr>\n  </thead>\n  <tbody>\n    <tr>\n      <th>0</th>\n      <td>0</td>\n      <td>0</td>\n      <td>0.12</td>\n      <td>0</td>\n      <td>0</td>\n      <td>0</td>\n      <td>None</td>\n      <td>None</td>\n      <td>None</td>\n      <td>None</td>\n      <td>None</td>\n      <td>0</td>\n      <td>No</td>\n    </tr>\n    <tr>\n      <th>1</th>\n      <td>1</td>\n      <td>1</td>\n      <td>0.38</td>\n      <td>0</td>\n      <td>0</td>\n      <td>0</td>\n      <td>None</td>\n      <td>None</td>\n      <td>None</td>\n      <td>None</td>\n      <td>None</td>\n      <td>1</td>\n      <td>No</td>\n    </tr>\n    <tr>\n      <th>2</th>\n      <td>2</td>\n      <td>2</td>\n      <td>0.00</td>\n      <td>0</td>\n      <td>0</td>\n      <td>0</td>\n      <td>None</td>\n      <td>None</td>\n      <td>None</td>\n      <td>None</td>\n      <td>None</td>\n      <td>1</td>\n      <td>No</td>\n    </tr>\n    <tr>\n      <th>3</th>\n      <td>3</td>\n      <td>3</td>\n      <td>1.67</td>\n      <td>0</td>\n      <td>0</td>\n      <td>0</td>\n      <td>None</td>\n      <td>None</td>\n      <td>None</td>\n      <td>None</td>\n      <td>None</td>\n      <td>1</td>\n      <td>No</td>\n    </tr>\n    <tr>\n      <th>4</th>\n      <td>4</td>\n      <td>4</td>\n      <td>1451.20</td>\n      <td>0</td>\n      <td>0</td>\n      <td>1</td>\n      <td>None</td>\n      <td>None</td>\n      <td>None</td>\n      <td>None</td>\n      <td>None</td>\n      <td>1</td>\n      <td>No</td>\n    </tr>\n    <tr>\n      <th>5</th>\n      <td>5</td>\n      <td>5</td>\n      <td>0.68</td>\n      <td>0</td>\n      <td>0</td>\n      <td>0</td>\n      <td>None</td>\n      <td>None</td>\n      <td>None</td>\n      <td>None</td>\n      <td>None</td>\n      <td>1</td>\n      <td>No</td>\n    </tr>\n    <tr>\n      <th>6</th>\n      <td>6</td>\n      <td>6</td>\n      <td>0.48</td>\n      <td>0</td>\n      <td>0</td>\n      <td>0</td>\n      <td>None</td>\n      <td>None</td>\n      <td>None</td>\n      <td>None</td>\n      <td>None</td>\n      <td>2</td>\n      <td>No</td>\n    </tr>\n  </tbody>\n</table>\n</div>"
     },
     "execution_count": 75,
     "metadata": {},
     "output_type": "execute_result"
    }
   ],
   "source": [
    "def define_priority_of_tasks(task_graph, data_table):\n",
    "    longest_path_length = lambda target: len(\n",
    "        max(nx.all_simple_paths(task_graph, source=0, target=target), key=lambda x: len(x), default=[0])) - 1\n",
    "    descriptionOffTask[\"priority\"] = descriptionOffTask[\"indexOfTask\"].map(longest_path_length)\n",
    "    return data_table\n",
    "define_priority_of_tasks(taskGraphParallel, descriptionOffTask)\n"
   ],
   "metadata": {
    "collapsed": false,
    "pycharm": {
     "name": "#%%\n"
    }
   }
  },
  {
   "cell_type": "code",
   "execution_count": 9,
   "outputs": [],
   "source": [
    "\n",
    "from sequential_modification.greedyAlgorithm import scheduling_table_of_current_package\n",
    "\n",
    "scheduling_table_of_current_package[\"endTime\"] = scheduling_table_of_current_package[\"endTime\"].cumsum()\n",
    "\n",
    "scheduling_table_of_current_package[\"startTime\"] = scheduling_table_of_current_package[\"endTime\"].shift(periods=1, fill_value=0)"
   ],
   "metadata": {
    "collapsed": false,
    "pycharm": {
     "name": "#%%\n"
    }
   }
  },
  {
   "cell_type": "code",
   "execution_count": 10,
   "outputs": [
    {
     "data": {
      "text/plain": "   indexOfTask  nameOfTask  complexityOfTask  complexityPerUnitOfmemory  \\\n0            0           0            0.1200                   0.000397   \n1            1           1            0.3800                   0.001912   \n2            2           2            0.0005                   0.000001   \n3            3           3            1.6700                   0.001667   \n4            4           4         1451.2000                   1.860516   \n5            5           5            0.6800                   0.000771   \n6            6           6            0.4800                   0.002417   \n\n   incomingMemory  outgoingMemory  possibilityOfParalleling    idOfMachine  \\\n0             300             200                         0              5   \n1             200             500                         0              4   \n2             500            1000                         0              6   \n3            1000             780                         0              1   \n4             780             880                         1  [7, 8, 9, 10]   \n5             880             200                         0              2   \n6             200               0                         0              3   \n\n  start_time_working_of_machine   startTime     endTime  \\\n0                             0           0    0.207328   \n1                             0    0.207328    1.372605   \n2                             0    1.372605    4.439356   \n3                             0    4.439356   12.572536   \n4                             0   12.572536   80.253045   \n5                             0   80.253045  262.911856   \n6                             0  262.911856  616.578488   \n\n  executingTimeWithoutTransfer executingTimeWithTransfer executingPrice  \\\n0                     0.143226                  0.207328        2.48794   \n1                     0.453548                  0.543292       6.519504   \n2                     0.000597                  0.192904       2.314854   \n3                     1.993226                  2.221431      26.657171   \n4                    50.464662                 51.315944    8802.797032   \n5                     0.811613                  0.950074      11.400893   \n6                     0.572903                  0.598544       7.182531   \n\n  transferTime transferPrice done  priority  executingTime  \n0     0.064103      0.192308  Yes         0       0.143226  \n1     0.089744      0.128205  Yes         1       0.453548  \n2     0.192308      0.320513  Yes         2       0.000597  \n3     0.228205      0.641026  Yes         3       1.993226  \n4     0.851282           2.0  Yes         4      50.464662  \n5     0.138462      0.564103  Yes         5       0.811613  \n6     0.025641      0.128205  Yes         6       0.572903  ",
      "text/html": "<div>\n<style scoped>\n    .dataframe tbody tr th:only-of-type {\n        vertical-align: middle;\n    }\n\n    .dataframe tbody tr th {\n        vertical-align: top;\n    }\n\n    .dataframe thead th {\n        text-align: right;\n    }\n</style>\n<table border=\"1\" class=\"dataframe\">\n  <thead>\n    <tr style=\"text-align: right;\">\n      <th></th>\n      <th>indexOfTask</th>\n      <th>nameOfTask</th>\n      <th>complexityOfTask</th>\n      <th>complexityPerUnitOfmemory</th>\n      <th>incomingMemory</th>\n      <th>outgoingMemory</th>\n      <th>possibilityOfParalleling</th>\n      <th>idOfMachine</th>\n      <th>start_time_working_of_machine</th>\n      <th>startTime</th>\n      <th>endTime</th>\n      <th>executingTimeWithoutTransfer</th>\n      <th>executingTimeWithTransfer</th>\n      <th>executingPrice</th>\n      <th>transferTime</th>\n      <th>transferPrice</th>\n      <th>done</th>\n      <th>priority</th>\n      <th>executingTime</th>\n    </tr>\n  </thead>\n  <tbody>\n    <tr>\n      <th>0</th>\n      <td>0</td>\n      <td>0</td>\n      <td>0.1200</td>\n      <td>0.000397</td>\n      <td>300</td>\n      <td>200</td>\n      <td>0</td>\n      <td>5</td>\n      <td>0</td>\n      <td>0</td>\n      <td>0.207328</td>\n      <td>0.143226</td>\n      <td>0.207328</td>\n      <td>2.48794</td>\n      <td>0.064103</td>\n      <td>0.192308</td>\n      <td>Yes</td>\n      <td>0</td>\n      <td>0.143226</td>\n    </tr>\n    <tr>\n      <th>1</th>\n      <td>1</td>\n      <td>1</td>\n      <td>0.3800</td>\n      <td>0.001912</td>\n      <td>200</td>\n      <td>500</td>\n      <td>0</td>\n      <td>4</td>\n      <td>0</td>\n      <td>0.207328</td>\n      <td>1.372605</td>\n      <td>0.453548</td>\n      <td>0.543292</td>\n      <td>6.519504</td>\n      <td>0.089744</td>\n      <td>0.128205</td>\n      <td>Yes</td>\n      <td>1</td>\n      <td>0.453548</td>\n    </tr>\n    <tr>\n      <th>2</th>\n      <td>2</td>\n      <td>2</td>\n      <td>0.0005</td>\n      <td>0.000001</td>\n      <td>500</td>\n      <td>1000</td>\n      <td>0</td>\n      <td>6</td>\n      <td>0</td>\n      <td>1.372605</td>\n      <td>4.439356</td>\n      <td>0.000597</td>\n      <td>0.192904</td>\n      <td>2.314854</td>\n      <td>0.192308</td>\n      <td>0.320513</td>\n      <td>Yes</td>\n      <td>2</td>\n      <td>0.000597</td>\n    </tr>\n    <tr>\n      <th>3</th>\n      <td>3</td>\n      <td>3</td>\n      <td>1.6700</td>\n      <td>0.001667</td>\n      <td>1000</td>\n      <td>780</td>\n      <td>0</td>\n      <td>1</td>\n      <td>0</td>\n      <td>4.439356</td>\n      <td>12.572536</td>\n      <td>1.993226</td>\n      <td>2.221431</td>\n      <td>26.657171</td>\n      <td>0.228205</td>\n      <td>0.641026</td>\n      <td>Yes</td>\n      <td>3</td>\n      <td>1.993226</td>\n    </tr>\n    <tr>\n      <th>4</th>\n      <td>4</td>\n      <td>4</td>\n      <td>1451.2000</td>\n      <td>1.860516</td>\n      <td>780</td>\n      <td>880</td>\n      <td>1</td>\n      <td>[7, 8, 9, 10]</td>\n      <td>0</td>\n      <td>12.572536</td>\n      <td>80.253045</td>\n      <td>50.464662</td>\n      <td>51.315944</td>\n      <td>8802.797032</td>\n      <td>0.851282</td>\n      <td>2.0</td>\n      <td>Yes</td>\n      <td>4</td>\n      <td>50.464662</td>\n    </tr>\n    <tr>\n      <th>5</th>\n      <td>5</td>\n      <td>5</td>\n      <td>0.6800</td>\n      <td>0.000771</td>\n      <td>880</td>\n      <td>200</td>\n      <td>0</td>\n      <td>2</td>\n      <td>0</td>\n      <td>80.253045</td>\n      <td>262.911856</td>\n      <td>0.811613</td>\n      <td>0.950074</td>\n      <td>11.400893</td>\n      <td>0.138462</td>\n      <td>0.564103</td>\n      <td>Yes</td>\n      <td>5</td>\n      <td>0.811613</td>\n    </tr>\n    <tr>\n      <th>6</th>\n      <td>6</td>\n      <td>6</td>\n      <td>0.4800</td>\n      <td>0.002417</td>\n      <td>200</td>\n      <td>0</td>\n      <td>0</td>\n      <td>3</td>\n      <td>0</td>\n      <td>262.911856</td>\n      <td>616.578488</td>\n      <td>0.572903</td>\n      <td>0.598544</td>\n      <td>7.182531</td>\n      <td>0.025641</td>\n      <td>0.128205</td>\n      <td>Yes</td>\n      <td>6</td>\n      <td>0.572903</td>\n    </tr>\n  </tbody>\n</table>\n</div>"
     },
     "execution_count": 10,
     "metadata": {},
     "output_type": "execute_result"
    }
   ],
   "source": [
    "scheduling_table_of_current_package.head(10)"
   ],
   "metadata": {
    "collapsed": false,
    "pycharm": {
     "name": "#%%\n"
    }
   }
  },
  {
   "cell_type": "code",
   "execution_count": 5,
   "outputs": [
    {
     "data": {
      "text/plain": "array([[1, 5, 0, 0]])"
     },
     "execution_count": 5,
     "metadata": {},
     "output_type": "execute_result"
    }
   ],
   "source": [
    "import numpy as np\n",
    "summa = 6\n",
    "rng = np.random.default_rng()\n",
    "sample_parallel = rng.multinomial(summa, [1 / 4] * 4, size=1)\n",
    "sample_parallel"
   ],
   "metadata": {
    "collapsed": false,
    "pycharm": {
     "name": "#%%\n"
    }
   }
  },
  {
   "cell_type": "code",
   "execution_count": null,
   "outputs": [],
   "source": [],
   "metadata": {
    "collapsed": false,
    "pycharm": {
     "name": "#%%\n"
    }
   }
  }
 ],
 "metadata": {
  "kernelspec": {
   "display_name": "Python 3",
   "language": "python",
   "name": "python3"
  },
  "language_info": {
   "codemirror_mode": {
    "name": "ipython",
    "version": 2
   },
   "file_extension": ".py",
   "mimetype": "text/x-python",
   "name": "python",
   "nbconvert_exporter": "python",
   "pygments_lexer": "ipython2",
   "version": "2.7.6"
  }
 },
 "nbformat": 4,
 "nbformat_minor": 0
}