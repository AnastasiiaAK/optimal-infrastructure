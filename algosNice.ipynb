{
 "cells": [
  {
   "cell_type": "code",
   "execution_count": 1,
   "id": "56bbb431",
   "metadata": {},
   "outputs": [
    {
     "name": "stdout",
     "output_type": "stream",
     "text": [
      "This graph is DAG? True\n",
      "numbersOfNodes: 16 numbersOfEdges: 32\n"
     ]
    },
    {
     "data": {
      "image/png": "[encoded data removed]",
      "text/plain": [
       "<Figure size 432x288 with 1 Axes>"
      ]
     },
     "metadata": {},
     "output_type": "display_data"
    },
    {
     "name": "stdout",
     "output_type": "stream",
     "text": [
      "numbers of machines 5\n",
      "Time of all calculation is  1.6048393891911066\n",
      "Common price for one workflow in USD (depends on time) 23.417816367076625\n",
      "Common time for calculation and tarsfer 1.20362954189333\n",
      "CPUBest 3 memoryBest 0 HDDBest 3 bestTime 2.512553736772487 bestBudget in USD 24.956482076719578\n",
      "list of boost CPU [1.0, 2.0, 8.0, 12.0]\n",
      "list of increasing price [1.0, 2.2787610619469025, 10.000000000000002, 15.79646017699115]\n",
      "price for one boosting [1.0, 1.1393805309734513, 1.2500000000000002, 1.3163716814159292]\n",
      "{0: [4.544563970690616, 4.539081514550265], 1: [3.294563970690615, 3.289081514550264], 2: [2.357063970690615, 2.3515815145502645], 3: [2.2528973040239486, 2.247414847883598]}\n",
      "{0: [30.30907289926204, 30.303590443121692], 1: [17.809072899262045, 17.803590443121692]}\n",
      "{1: [17.809072899262045, 17.803590443121692]}\n",
      "CPUBest 16 memoryBest 16 HDDBest 475 bestTime 3.294563970690615 bestBudget in USD 7.583528246143424\n",
      "CPUBest 16 memoryBest 16 HDDBest 475 bestTime 17.809072899262045 bestBudget in USD 68.91942389346485\n",
      "{0: [30.30907289926204, 30.303590443121692], 1: [17.809072899262045, 17.803590443121692]}\n",
      "{1: [17.809072899262045, 17.803590443121692]}\n",
      "CPUBest 16 memoryBest 16 HDDBest 475 bestTime 17.809072899262045 bestBudget in USD 68.91942389346485\n",
      "{0: [129.1343360571568, 129.10692377645503], 1: [66.63433605715679, 66.60692377645503], 2: [19.75933605715678, 19.731923776455027], 3: [14.551002723823448, 14.523590443121691]}\n",
      "{3: [14.551002723823448, 14.523590443121691]}\n",
      "CPUBest 96 memoryBest 16 HDDBest 475 bestTime 14.551002723823448 bestBudget in USD 81.70337378280045\n",
      "{0: [66.91854658347256, 66.90484044312169], 1: [35.66854658347257, 35.65484044312169], 2: [12.23104658347257, 12.21734044312169]}\n",
      "{2: [12.23104658347257, 12.21734044312169]}\n",
      "CPUBest 64 memoryBest 16 HDDBest 475 bestTime 12.23104658347257 bestBudget in USD 84.6081098637073\n",
      "{0: [46.3799500922445, 46.370812665343905], 1: [25.546616758911167, 25.53747933201058], 2: [9.921616758911165, 9.912479332010582]}\n",
      "{2: [9.921616758911165, 9.912479332010582]}\n",
      "CPUBest 64 memoryBest 16 HDDBest 475 bestTime 9.921616758911165 bestBudget in USD 98.43937126485918\n",
      "{0: [36.26065184663046, 36.25379877645502], 1: [20.635651846630466, 20.628798776455028]}\n",
      "{1: [20.635651846630466, 20.628798776455028]}\n",
      "CPUBest 16 memoryBest 16 HDDBest 475 bestTime 20.635651846630466 bestBudget in USD 65.70546034284206\n",
      "{0: [30.30907289926204, 30.303590443121692], 1: [17.809072899262045, 17.803590443121692]}\n",
      "{1: [17.809072899262045, 17.803590443121692]}\n",
      "CPUBest 16 memoryBest 16 HDDBest 475 bestTime 17.809072899262045 bestBudget in USD 68.91942389346485\n",
      "optimal number of machines 3  best Time For Number Of Machines 9.921616758911165\n",
      "3 9.921616758911165 (2, 0, 0, 9.921616758911165, 98.43937126485918)\n"
     ]
    }
   ],
   "source": [
    "# эволюционный алгоритм\n",
    "from ipynb.fs.full.optimalCloudKiseleva import *"
   ]
  },
  {
   "cell_type": "code",
   "execution_count": 2,
   "id": "8729ae65",
   "metadata": {},
   "outputs": [],
   "source": [
    "numbersOfTasks = 16\n",
    "G = generateTask(numbersOfTasks)"
   ]
  },
  {
   "cell_type": "markdown",
   "id": "9da0ff08",
   "metadata": {},
   "source": [
    "# brute force"
   ]
  },
  {
   "cell_type": "code",
   "execution_count": 3,
   "id": "123568eb",
   "metadata": {},
   "outputs": [
    {
     "name": "stdout",
     "output_type": "stream",
     "text": [
      "Time of execution: 8.59318208694458\n",
      "CPUBest 2 memoryBest 0 HDDBest 3 bestTime 13.325304783950616 bestBudget in USD 95.21921393004115 number of machine 2\n"
     ]
    }
   ],
   "source": [
    "import math\n",
    "import time\n",
    "startTime = time.time()\n",
    "\n",
    "CPUOfTask, memoryOfTask = 100, 100\n",
    "limitBudget = 100 # предел бюджета\n",
    "bestTime = math.inf \n",
    "\n",
    "\n",
    "for machina in range(1, 300):\n",
    "    for i in range(len(CPU)):\n",
    "        for j in range(len(memory)):\n",
    "            for z in range(len(HDD)):\n",
    "                numberOfMachines = machina\n",
    "                setOfAllMachines = setOfMachines(numberOfMachines)\n",
    "                for k in range(numberOfMachines):\n",
    "                    m1 = machine()\n",
    "                    m1.CPU = CPU[i]\n",
    "                    m1.memory = memory[j]\n",
    "                    m1.HDD =  HDD[z]\n",
    "                    m1.availability = \"free\"\n",
    "                    m1.price = price[i] + memory[j] /3000  + HDD[z] / 30000\n",
    "                    setOfAllMachines.addMachines(m1)\n",
    "\n",
    "\n",
    "                time, budget = calculateTimeAndPrice(CPUOfTask, memoryOfTask, numberOfMachines, setOfAllMachines, G)\n",
    "\n",
    "                if budget < limitBudget and bestTime > time:\n",
    "                    bestTime = time\n",
    "                    bestBudget = budget\n",
    "                    CPUBest = i\n",
    "                    memoryBest = j\n",
    "                    HDDBest = z  \n",
    "                    bestNumber = machina\n",
    "\n",
    "import time\n",
    "print(\"Time of execution:\", -startTime + time.time())\n",
    "                \n",
    "print(\"CPUBest\",CPUBest,\"memoryBest\", memoryBest,\"HDDBest\", HDDBest,\"bestTime\", bestTime,\"bestBudget in USD\", bestBudget, \"number of machine\", bestNumber)"
   ]
  },
  {
   "cell_type": "markdown",
   "id": "beb5dde4",
   "metadata": {},
   "source": [
    "# эволюционный алгоритм\n"
   ]
  },
  {
   "cell_type": "code",
   "execution_count": 4,
   "id": "02cd8e99",
   "metadata": {},
   "outputs": [
    {
     "name": "stdout",
     "output_type": "stream",
     "text": [
      "Time of execution: 0.34544801712036133\n",
      "параметры машин [2, 2, 1, 2]\n",
      "время 13.326346450617281\n",
      "стоимость 94.34464835390946\n",
      "кол-во итераций 13\n"
     ]
    },
    {
     "name": "stderr",
     "output_type": "stream",
     "text": [
      "/home/anastasiia/anaconda3/lib/python3.8/site-packages/scipy/optimize/_numdiff.py:557: RuntimeWarning: invalid value encountered in subtract\n",
      "  df = fun(x) - f0\n"
     ]
    }
   ],
   "source": [
    "import time\n",
    "startTime = time.time()\n",
    "\n",
    "def resultFunction(first_input):\n",
    "    first_input = list(map(int, first_input))\n",
    "    number, i, j, k = first_input\n",
    "    #rint(first_input)\n",
    "    #rint(number, i, j, k)\n",
    "    #rint(HDD[k])\n",
    "    numberOfMachines = number\n",
    "    setOfAllMachines = setOfMachines(numberOfMachines)\n",
    "    for s in range(numberOfMachines):\n",
    "        m1 = machine()\n",
    "        m1.CPU = CPU[i]\n",
    "        m1.memory = memory[j]\n",
    "        m1.HDD =  HDD[k]\n",
    "        m1.availability = \"free\"\n",
    "        m1.price = price[i] + memory[j] /3000  + HDD[k]/ 30000\n",
    "        setOfAllMachines.addMachines(m1)\n",
    "    \n",
    "\n",
    "    time, budget = calculateTimeAndPrice(CPUOfTask, memoryOfTask, numberOfMachines, setOfAllMachines, G)\n",
    "    return time,budget\n",
    "\n",
    "\n",
    "\n",
    "\n",
    "\n",
    "\n",
    "from scipy.optimize import differential_evolution\n",
    "import numpy as np\n",
    "first_input = [1,0,0,0]\n",
    "\n",
    "\n",
    "# параметры машин\n",
    "CPU = [8,16,64, 96]\n",
    "memory = [16,32,64,128, 256]\n",
    "HDD = [475,600,2400,3600]\n",
    "price = [0.3616, 0.824, 3.616, 5.712]\n",
    "\n",
    "\n",
    "# лимит бюджета\n",
    "budgetLimit = 100\n",
    "\n",
    "\n",
    "# параметры задания\n",
    "CPUOfTask, memoryOfTask = 100, 100\n",
    "\n",
    "listResult = []\n",
    "\n",
    "def resultFunctionForGen(first_input):\n",
    "    \n",
    "    \n",
    "    \n",
    "    import math\n",
    "    if math.isnan(first_input[0]):\n",
    "        return -1\n",
    "    \n",
    "\n",
    "    first_input = list(map(int, first_input))\n",
    "    \n",
    "    if first_input in listResult:\n",
    "        return math.inf\n",
    "    \n",
    "    number, i, j, k = first_input\n",
    "    #rint(first_input)\n",
    "    #rint(number, i, j, k)\n",
    "    #rint(HDD[k])\n",
    "    numberOfMachines = number\n",
    "    setOfAllMachines = setOfMachines(numberOfMachines)\n",
    "    for s in range(numberOfMachines):\n",
    "        m1 = machine()\n",
    "        m1.CPU = CPU[i]\n",
    "        m1.memory = memory[j]\n",
    "        m1.HDD =  HDD[k]\n",
    "        m1.availability = \"free\"\n",
    "        m1.price = price[i] + memory[j] /3000  + HDD[k]/ 30000\n",
    "        setOfAllMachines.addMachines(m1)\n",
    "    \n",
    "\n",
    "    time, budget = calculateTimeAndPrice(CPUOfTask, memoryOfTask, numberOfMachines, setOfAllMachines, G)\n",
    "    \n",
    "    \n",
    "    listResult.append(first_input)\n",
    "    \n",
    "    import math\n",
    "    if budget > budgetLimit:\n",
    "        time += math.inf\n",
    "        \n",
    "    return time\n",
    "\n",
    "\n",
    "bounds = [(1, 300),(0, 3), (0, 4), (0,3)]\n",
    "result = differential_evolution(resultFunctionForGen, bounds, maxiter = (len(CPU) + len(memory) + len(HDD)))\n",
    "\n",
    "\n",
    "print(\"Time of execution:\", -startTime + time.time())\n",
    "\n",
    "if result.fun == math.inf:\n",
    "    print(\"увеличьте бюджет\")\n",
    "else:\n",
    "    print(\"параметры машин\",list(map(int, result.x)))\n",
    "    print(\"время\",result.fun)\n",
    "    print(\"стоимость\",resultFunction(list(map(int, result.x)))[1])\n",
    "    print(\"кол-во итераций\", result.nit)"
   ]
  },
  {
   "cell_type": "markdown",
   "id": "2185f2c0",
   "metadata": {},
   "source": [
    "# алгоритм, который я назвала жадным"
   ]
  },
  {
   "cell_type": "code",
   "execution_count": 5,
   "id": "27552096",
   "metadata": {},
   "outputs": [
    {
     "name": "stdout",
     "output_type": "stream",
     "text": [
      "{0: [130.2423003979857, 130.21488811728395], 1: [67.74230039798572, 67.71488811728396], 2: [20.867300397985705, 20.83988811728395], 3: [15.658967064652371, 15.631554783950616]}\n",
      "{3: [15.658967064652371, 15.631554783950616]}\n",
      "CPUBest 96 memoryBest 16 HDDBest 475 bestTime 15.658967064652371 bestBudget in USD 88.05551800949614\n",
      "{0: [68.0265109243015, 68.01280478395063], 1: [36.7765109243015, 36.76280478395062], 2: [13.339010924301492, 13.325304783950616]}\n",
      "{2: [13.339010924301492, 13.325304783950616]}\n",
      "CPUBest 64 memoryBest 16 HDDBest 475 bestTime 13.339010924301492 bestBudget in USD 92.66781180034381\n",
      "{0: [47.48791443307342, 47.478777006172834], 1: [26.654581099740092, 26.645443672839505]}\n",
      "{1: [26.654581099740092, 26.645443672839505]}\n",
      "CPUBest 16 memoryBest 16 HDDBest 475 bestTime 26.654581099740092 bestBudget in USD 65.300740378391\n",
      "{0: [37.36861618745939, 37.36176311728395], 1: [21.743616187459388, 21.73676311728395]}\n",
      "{1: [21.743616187459388, 21.73676311728395]}\n",
      "CPUBest 16 memoryBest 16 HDDBest 475 bestTime 21.743616187459388 bestBudget in USD 69.4511184577377\n",
      "{0: [31.417037240090963, 31.411554783950614], 1: [18.917037240090966, 18.911554783950617]}\n",
      "{1: [18.917037240090966, 18.911554783950617]}\n",
      "CPUBest 16 memoryBest 16 HDDBest 475 bestTime 18.917037240090966 bestBudget in USD 73.6014965370844\n",
      "{0: [27.549317941845356, 27.54474922839506], 1: [17.132651275178688, 17.128082561728394]}\n",
      "{1: [17.132651275178688, 17.128082561728394]}\n",
      "CPUBest 16 memoryBest 16 HDDBest 475 bestTime 17.132651275178688 bestBudget in USD 77.75187461643112\n",
      "{0: [24.87237558595563, 24.86845954585538], 1: [15.9438041573842, 15.93988811728395]}\n",
      "{1: [15.9438041573842, 15.93988811728395]}\n",
      "CPUBest 16 memoryBest 16 HDDBest 475 bestTime 15.9438041573842 bestBudget in USD 81.90225269577782\n",
      "optimal number of machines 2  best Time For Number Of Machines 13.339010924301492\n",
      "Time of execution: 0.053514957427978516\n",
      "2 13.339010924301492 (2, 0, 0, 13.339010924301492, 92.66781180034381)\n"
     ]
    }
   ],
   "source": [
    "import time\n",
    "startTime = time.time()\n",
    "\n",
    "numberOfMachines, bestTimeForNumberOfMachines, bestConfiguration = findNumberOfMachine(100, 100, 100, G)\n",
    "print(\"Time of execution:\", -startTime + time.time())\n",
    "\n",
    "print(numberOfMachines, bestTimeForNumberOfMachines, bestConfiguration)"
   ]
  },
  {
   "cell_type": "code",
   "execution_count": null,
   "id": "47c554b2",
   "metadata": {},
   "outputs": [],
   "source": []
  },
  {
   "cell_type": "code",
   "execution_count": null,
   "id": "177d6ea6",
   "metadata": {},
   "outputs": [],
   "source": []
  },
  {
   "cell_type": "code",
   "execution_count": null,
   "id": "39d61ece",
   "metadata": {},
   "outputs": [],
   "source": []
  }
 ],
 "metadata": {
  "kernelspec": {
   "display_name": "Python 3",
   "language": "python",
   "name": "python3"
  },
  "language_info": {
   "codemirror_mode": {
    "name": "ipython",
    "version": 3
   },
   "file_extension": ".py",
   "mimetype": "text/x-python",
   "name": "python",
   "nbconvert_exporter": "python",
   "pygments_lexer": "ipython3",
   "version": "3.8.8"
  }
 },
 "nbformat": 4,
 "nbformat_minor": 5
}
